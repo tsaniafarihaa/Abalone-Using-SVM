{
  "cells": [
    {
      "cell_type": "markdown",
      "id": "0998ab93",
      "metadata": {
        "id": "0998ab93"
      },
      "source": [
        "# <center>Project-Based Assignment CLO-2</center>"
      ]
    },
    {
      "cell_type": "markdown",
      "id": "b9dd2c3d",
      "metadata": {
        "id": "b9dd2c3d"
      },
      "source": [
        "<b>Topik</b>\n",
        "Implementation of Supervised Learning on Regression Task\n",
        "\n",
        "<b>Anggota Kelompok</b>\n",
        "1. Tsania Millatina Aghnia Fariha - 1301210051\n",
        "2. Putri Ayu Sedyo Mukti - 1301213453\n",
        "3. Daffa Akbar Aryaditya - 1301210105"
      ]
    },
    {
      "cell_type": "markdown",
      "id": "f67c8e8d",
      "metadata": {
        "id": "f67c8e8d"
      },
      "source": [
        "#### Latar Belakang\n",
        "\n",
        "\n",
        "---\n",
        "<p align = 'justify'>\n",
        "Abalone adalah salah satu jenis seafood yang populer saat ini dan memiliki nilai jual tinggi, terutama di negara-negara Asia. Semakin tua usia Abalon, maka harganya pun semakin tinggi. Oleh karena itu,  usia Abalon untuk menentukan harga dari jual beli agar penjual tidak mengalami kerugian dan pembeli tidak mengalami pipenipuan. Berd asarkan hasil penelitian, umur abalone dapat ditentukan dengan menghitung jumlah ring di dalam tubuh abalone dan menambahkannya dengan 1.5. Namun,proses penentuan usia ini rumit karena melibatkan pengukuran jumlah lapisan kerang (\"ring\") yang membentuk cangkang abalon yang dilakukan dengan mengambil sampel cangkang, pewarnaan, dan menghitung jumlah cincin di bawah mikroskop. Proses tersebut kurang efisien karena  memakan waktu dan memerlukan ketelitian yang tinggi. Oleh karena itu, dalam laporan ini kami memiliki tujuan untuk memprediksi umur abalone berdasarkan beberapa karakteristik pada hewan tersebut  tanpa harus mengukur jumlah lapisan kerang(ring). Berikut merupakan deskripsi dataset yang kami miliki."
      ]
    },
    {
      "cell_type": "markdown",
      "source": [
        "![table.png](data:image/png;base64,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)"
      ],
      "metadata": {
        "id": "zrff2ok4PTWn"
      },
      "id": "zrff2ok4PTWn"
    },
    {
      "cell_type": "markdown",
      "source": [
        "#### Fitur -fitur data set Abalone :\n",
        "----\n",
        "\n",
        "\n",
        "\n",
        "*   Sex             : female,male, dan infant\n",
        "*   Length          : Panjang Cangkang\n",
        "*   Diameter        : lebar dari cangkang\n",
        "*   Height\t        : besar daging abalon di dalam cangkang\n",
        "*   Whole weight    : Total bobot abalon\n",
        "*   Shucked weight  : Berat daging\n",
        "*   Viscera weight  : Berat isi perut (setelah dipotong)\n",
        "*   Shell weight\t  : berat daging Setelah dikeringkan\n",
        "*   Rings           : Jumlah lapisan kerang\n",
        "\n",
        "\n",
        "\n",
        "\n",
        "\n",
        "\n",
        "\n",
        "\n",
        "\n",
        "\n",
        "\n",
        "\n"
      ],
      "metadata": {
        "id": "zzbu2rwYICJr"
      },
      "id": "zzbu2rwYICJr"
    },
    {
      "cell_type": "markdown",
      "source": [
        "# Import Modul"
      ],
      "metadata": {
        "id": "2g7XvbgAK51r"
      },
      "id": "2g7XvbgAK51r"
    },
    {
      "cell_type": "code",
      "source": [
        "import pandas as pd\n",
        "import numpy as np\n",
        "import seaborn as sns\n",
        "import matplotlib.pyplot as plt\n",
        "import warnings\n",
        "warnings.filterwarnings('ignore')\n",
        "from sklearn.model_selection import train_test_split\n",
        "from sklearn import svm\n",
        "from sklearn.svm import SVR\n",
        "from sklearn.metrics.pairwise import linear_kernel\n",
        "from sklearn.pipeline import make_pipeline\n",
        "from sklearn import metrics\n",
        "from sklearn.preprocessing import PolynomialFeatures\n",
        "from sklearn.metrics import mean_squared_error\n",
        "from sklearn.metrics import mean_absolute_percentage_error\n",
        "from sklearn.metrics import r2_score\n",
        "from sklearn.preprocessing import StandardScaler\n",
        "from sklearn.metrics import confusion_matrix, accuracy_score\n",
        "from scipy.stats import skew\n",
        "from sklearn.metrics import make_scorer, accuracy_score, confusion_matrix\n",
        "from sklearn.model_selection import GridSearchCV\n",
        "import statsmodels.api as sm\n",
        "from statsmodels.stats.outliers_influence import variance_inflation_factor"
      ],
      "metadata": {
        "id": "cyiExobwUA18"
      },
      "id": "cyiExobwUA18",
      "execution_count": null,
      "outputs": []
    },
    {
      "cell_type": "markdown",
      "source": [
        "Mengimpor library yang akan digunakan dalam analisis dan pemodelan"
      ],
      "metadata": {
        "id": "S1cve_gVM--U"
      },
      "id": "S1cve_gVM--U"
    },
    {
      "cell_type": "markdown",
      "source": [
        "# Membaca Data"
      ],
      "metadata": {
        "id": "bxIDFOfkQDI3"
      },
      "id": "bxIDFOfkQDI3"
    },
    {
      "cell_type": "code",
      "source": [
        "column_names = [\"Sex\", \"Length\", \"Diameter\", \"Height\", \"Wholeweight\", \"Shuckedweight\", \"Visceraweight\", \"Shellweight\", \"Rings\"]"
      ],
      "metadata": {
        "id": "HUsSyo4pUDRA"
      },
      "id": "HUsSyo4pUDRA",
      "execution_count": null,
      "outputs": []
    },
    {
      "cell_type": "code",
      "source": [
        "Data = pd.read_csv('abalone.data', names = column_names)"
      ],
      "metadata": {
        "id": "vOFH0jTKUIrd"
      },
      "id": "vOFH0jTKUIrd",
      "execution_count": null,
      "outputs": []
    },
    {
      "cell_type": "markdown",
      "source": [
        "# Memahami Data"
      ],
      "metadata": {
        "id": "Kr-UacYkKQJY"
      },
      "id": "Kr-UacYkKQJY"
    },
    {
      "cell_type": "code",
      "source": [
        "Data.head()"
      ],
      "metadata": {
        "id": "JEXk6h94UZlr",
        "colab": {
          "base_uri": "https://localhost:8080/",
          "height": 206
        },
        "outputId": "a48d0d6a-69a0-43e8-aff9-e3e41f9ba836"
      },
      "id": "JEXk6h94UZlr",
      "execution_count": null,
      "outputs": [
        {
          "output_type": "execute_result",
          "data": {
            "text/plain": [
              "  Sex  Length  Diameter  Height  Wholeweight  Shuckedweight  Visceraweight  \\\n",
              "0   M   0.455     0.365   0.095       0.5140         0.2245         0.1010   \n",
              "1   M   0.350     0.265   0.090       0.2255         0.0995         0.0485   \n",
              "2   F   0.530     0.420   0.135       0.6770         0.2565         0.1415   \n",
              "3   M   0.440     0.365   0.125       0.5160         0.2155         0.1140   \n",
              "4   I   0.330     0.255   0.080       0.2050         0.0895         0.0395   \n",
              "\n",
              "   Shellweight  Rings  \n",
              "0        0.150     15  \n",
              "1        0.070      7  \n",
              "2        0.210      9  \n",
              "3        0.155     10  \n",
              "4        0.055      7  "
            ],
            "text/html": [
              "\n",
              "  <div id=\"df-c987aa50-51bc-4251-bee8-698d295b559d\" class=\"colab-df-container\">\n",
              "    <div>\n",
              "<style scoped>\n",
              "    .dataframe tbody tr th:only-of-type {\n",
              "        vertical-align: middle;\n",
              "    }\n",
              "\n",
              "    .dataframe tbody tr th {\n",
              "        vertical-align: top;\n",
              "    }\n",
              "\n",
              "    .dataframe thead th {\n",
              "        text-align: right;\n",
              "    }\n",
              "</style>\n",
              "<table border=\"1\" class=\"dataframe\">\n",
              "  <thead>\n",
              "    <tr style=\"text-align: right;\">\n",
              "      <th></th>\n",
              "      <th>Sex</th>\n",
              "      <th>Length</th>\n",
              "      <th>Diameter</th>\n",
              "      <th>Height</th>\n",
              "      <th>Wholeweight</th>\n",
              "      <th>Shuckedweight</th>\n",
              "      <th>Visceraweight</th>\n",
              "      <th>Shellweight</th>\n",
              "      <th>Rings</th>\n",
              "    </tr>\n",
              "  </thead>\n",
              "  <tbody>\n",
              "    <tr>\n",
              "      <th>0</th>\n",
              "      <td>M</td>\n",
              "      <td>0.455</td>\n",
              "      <td>0.365</td>\n",
              "      <td>0.095</td>\n",
              "      <td>0.5140</td>\n",
              "      <td>0.2245</td>\n",
              "      <td>0.1010</td>\n",
              "      <td>0.150</td>\n",
              "      <td>15</td>\n",
              "    </tr>\n",
              "    <tr>\n",
              "      <th>1</th>\n",
              "      <td>M</td>\n",
              "      <td>0.350</td>\n",
              "      <td>0.265</td>\n",
              "      <td>0.090</td>\n",
              "      <td>0.2255</td>\n",
              "      <td>0.0995</td>\n",
              "      <td>0.0485</td>\n",
              "      <td>0.070</td>\n",
              "      <td>7</td>\n",
              "    </tr>\n",
              "    <tr>\n",
              "      <th>2</th>\n",
              "      <td>F</td>\n",
              "      <td>0.530</td>\n",
              "      <td>0.420</td>\n",
              "      <td>0.135</td>\n",
              "      <td>0.6770</td>\n",
              "      <td>0.2565</td>\n",
              "      <td>0.1415</td>\n",
              "      <td>0.210</td>\n",
              "      <td>9</td>\n",
              "    </tr>\n",
              "    <tr>\n",
              "      <th>3</th>\n",
              "      <td>M</td>\n",
              "      <td>0.440</td>\n",
              "      <td>0.365</td>\n",
              "      <td>0.125</td>\n",
              "      <td>0.5160</td>\n",
              "      <td>0.2155</td>\n",
              "      <td>0.1140</td>\n",
              "      <td>0.155</td>\n",
              "      <td>10</td>\n",
              "    </tr>\n",
              "    <tr>\n",
              "      <th>4</th>\n",
              "      <td>I</td>\n",
              "      <td>0.330</td>\n",
              "      <td>0.255</td>\n",
              "      <td>0.080</td>\n",
              "      <td>0.2050</td>\n",
              "      <td>0.0895</td>\n",
              "      <td>0.0395</td>\n",
              "      <td>0.055</td>\n",
              "      <td>7</td>\n",
              "    </tr>\n",
              "  </tbody>\n",
              "</table>\n",
              "</div>\n",
              "    <div class=\"colab-df-buttons\">\n",
              "\n",
              "  <div class=\"colab-df-container\">\n",
              "    <button class=\"colab-df-convert\" onclick=\"convertToInteractive('df-c987aa50-51bc-4251-bee8-698d295b559d')\"\n",
              "            title=\"Convert this dataframe to an interactive table.\"\n",
              "            style=\"display:none;\">\n",
              "\n",
              "  <svg xmlns=\"http://www.w3.org/2000/svg\" height=\"24px\" viewBox=\"0 -960 960 960\">\n",
              "    <path d=\"M120-120v-720h720v720H120Zm60-500h600v-160H180v160Zm220 220h160v-160H400v160Zm0 220h160v-160H400v160ZM180-400h160v-160H180v160Zm440 0h160v-160H620v160ZM180-180h160v-160H180v160Zm440 0h160v-160H620v160Z\"/>\n",
              "  </svg>\n",
              "    </button>\n",
              "\n",
              "  <style>\n",
              "    .colab-df-container {\n",
              "      display:flex;\n",
              "      gap: 12px;\n",
              "    }\n",
              "\n",
              "    .colab-df-convert {\n",
              "      background-color: #E8F0FE;\n",
              "      border: none;\n",
              "      border-radius: 50%;\n",
              "      cursor: pointer;\n",
              "      display: none;\n",
              "      fill: #1967D2;\n",
              "      height: 32px;\n",
              "      padding: 0 0 0 0;\n",
              "      width: 32px;\n",
              "    }\n",
              "\n",
              "    .colab-df-convert:hover {\n",
              "      background-color: #E2EBFA;\n",
              "      box-shadow: 0px 1px 2px rgba(60, 64, 67, 0.3), 0px 1px 3px 1px rgba(60, 64, 67, 0.15);\n",
              "      fill: #174EA6;\n",
              "    }\n",
              "\n",
              "    .colab-df-buttons div {\n",
              "      margin-bottom: 4px;\n",
              "    }\n",
              "\n",
              "    [theme=dark] .colab-df-convert {\n",
              "      background-color: #3B4455;\n",
              "      fill: #D2E3FC;\n",
              "    }\n",
              "\n",
              "    [theme=dark] .colab-df-convert:hover {\n",
              "      background-color: #434B5C;\n",
              "      box-shadow: 0px 1px 3px 1px rgba(0, 0, 0, 0.15);\n",
              "      filter: drop-shadow(0px 1px 2px rgba(0, 0, 0, 0.3));\n",
              "      fill: #FFFFFF;\n",
              "    }\n",
              "  </style>\n",
              "\n",
              "    <script>\n",
              "      const buttonEl =\n",
              "        document.querySelector('#df-c987aa50-51bc-4251-bee8-698d295b559d button.colab-df-convert');\n",
              "      buttonEl.style.display =\n",
              "        google.colab.kernel.accessAllowed ? 'block' : 'none';\n",
              "\n",
              "      async function convertToInteractive(key) {\n",
              "        const element = document.querySelector('#df-c987aa50-51bc-4251-bee8-698d295b559d');\n",
              "        const dataTable =\n",
              "          await google.colab.kernel.invokeFunction('convertToInteractive',\n",
              "                                                    [key], {});\n",
              "        if (!dataTable) return;\n",
              "\n",
              "        const docLinkHtml = 'Like what you see? Visit the ' +\n",
              "          '<a target=\"_blank\" href=https://colab.research.google.com/notebooks/data_table.ipynb>data table notebook</a>'\n",
              "          + ' to learn more about interactive tables.';\n",
              "        element.innerHTML = '';\n",
              "        dataTable['output_type'] = 'display_data';\n",
              "        await google.colab.output.renderOutput(dataTable, element);\n",
              "        const docLink = document.createElement('div');\n",
              "        docLink.innerHTML = docLinkHtml;\n",
              "        element.appendChild(docLink);\n",
              "      }\n",
              "    </script>\n",
              "  </div>\n",
              "\n",
              "\n",
              "<div id=\"df-1ff3ebc8-bc39-4cc0-aade-dbf08d82174d\">\n",
              "  <button class=\"colab-df-quickchart\" onclick=\"quickchart('df-1ff3ebc8-bc39-4cc0-aade-dbf08d82174d')\"\n",
              "            title=\"Suggest charts\"\n",
              "            style=\"display:none;\">\n",
              "\n",
              "<svg xmlns=\"http://www.w3.org/2000/svg\" height=\"24px\"viewBox=\"0 0 24 24\"\n",
              "     width=\"24px\">\n",
              "    <g>\n",
              "        <path d=\"M19 3H5c-1.1 0-2 .9-2 2v14c0 1.1.9 2 2 2h14c1.1 0 2-.9 2-2V5c0-1.1-.9-2-2-2zM9 17H7v-7h2v7zm4 0h-2V7h2v10zm4 0h-2v-4h2v4z\"/>\n",
              "    </g>\n",
              "</svg>\n",
              "  </button>\n",
              "\n",
              "<style>\n",
              "  .colab-df-quickchart {\n",
              "      --bg-color: #E8F0FE;\n",
              "      --fill-color: #1967D2;\n",
              "      --hover-bg-color: #E2EBFA;\n",
              "      --hover-fill-color: #174EA6;\n",
              "      --disabled-fill-color: #AAA;\n",
              "      --disabled-bg-color: #DDD;\n",
              "  }\n",
              "\n",
              "  [theme=dark] .colab-df-quickchart {\n",
              "      --bg-color: #3B4455;\n",
              "      --fill-color: #D2E3FC;\n",
              "      --hover-bg-color: #434B5C;\n",
              "      --hover-fill-color: #FFFFFF;\n",
              "      --disabled-bg-color: #3B4455;\n",
              "      --disabled-fill-color: #666;\n",
              "  }\n",
              "\n",
              "  .colab-df-quickchart {\n",
              "    background-color: var(--bg-color);\n",
              "    border: none;\n",
              "    border-radius: 50%;\n",
              "    cursor: pointer;\n",
              "    display: none;\n",
              "    fill: var(--fill-color);\n",
              "    height: 32px;\n",
              "    padding: 0;\n",
              "    width: 32px;\n",
              "  }\n",
              "\n",
              "  .colab-df-quickchart:hover {\n",
              "    background-color: var(--hover-bg-color);\n",
              "    box-shadow: 0 1px 2px rgba(60, 64, 67, 0.3), 0 1px 3px 1px rgba(60, 64, 67, 0.15);\n",
              "    fill: var(--button-hover-fill-color);\n",
              "  }\n",
              "\n",
              "  .colab-df-quickchart-complete:disabled,\n",
              "  .colab-df-quickchart-complete:disabled:hover {\n",
              "    background-color: var(--disabled-bg-color);\n",
              "    fill: var(--disabled-fill-color);\n",
              "    box-shadow: none;\n",
              "  }\n",
              "\n",
              "  .colab-df-spinner {\n",
              "    border: 2px solid var(--fill-color);\n",
              "    border-color: transparent;\n",
              "    border-bottom-color: var(--fill-color);\n",
              "    animation:\n",
              "      spin 1s steps(1) infinite;\n",
              "  }\n",
              "\n",
              "  @keyframes spin {\n",
              "    0% {\n",
              "      border-color: transparent;\n",
              "      border-bottom-color: var(--fill-color);\n",
              "      border-left-color: var(--fill-color);\n",
              "    }\n",
              "    20% {\n",
              "      border-color: transparent;\n",
              "      border-left-color: var(--fill-color);\n",
              "      border-top-color: var(--fill-color);\n",
              "    }\n",
              "    30% {\n",
              "      border-color: transparent;\n",
              "      border-left-color: var(--fill-color);\n",
              "      border-top-color: var(--fill-color);\n",
              "      border-right-color: var(--fill-color);\n",
              "    }\n",
              "    40% {\n",
              "      border-color: transparent;\n",
              "      border-right-color: var(--fill-color);\n",
              "      border-top-color: var(--fill-color);\n",
              "    }\n",
              "    60% {\n",
              "      border-color: transparent;\n",
              "      border-right-color: var(--fill-color);\n",
              "    }\n",
              "    80% {\n",
              "      border-color: transparent;\n",
              "      border-right-color: var(--fill-color);\n",
              "      border-bottom-color: var(--fill-color);\n",
              "    }\n",
              "    90% {\n",
              "      border-color: transparent;\n",
              "      border-bottom-color: var(--fill-color);\n",
              "    }\n",
              "  }\n",
              "</style>\n",
              "\n",
              "  <script>\n",
              "    async function quickchart(key) {\n",
              "      const quickchartButtonEl =\n",
              "        document.querySelector('#' + key + ' button');\n",
              "      quickchartButtonEl.disabled = true;  // To prevent multiple clicks.\n",
              "      quickchartButtonEl.classList.add('colab-df-spinner');\n",
              "      try {\n",
              "        const charts = await google.colab.kernel.invokeFunction(\n",
              "            'suggestCharts', [key], {});\n",
              "      } catch (error) {\n",
              "        console.error('Error during call to suggestCharts:', error);\n",
              "      }\n",
              "      quickchartButtonEl.classList.remove('colab-df-spinner');\n",
              "      quickchartButtonEl.classList.add('colab-df-quickchart-complete');\n",
              "    }\n",
              "    (() => {\n",
              "      let quickchartButtonEl =\n",
              "        document.querySelector('#df-1ff3ebc8-bc39-4cc0-aade-dbf08d82174d button');\n",
              "      quickchartButtonEl.style.display =\n",
              "        google.colab.kernel.accessAllowed ? 'block' : 'none';\n",
              "    })();\n",
              "  </script>\n",
              "</div>\n",
              "    </div>\n",
              "  </div>\n"
            ]
          },
          "metadata": {},
          "execution_count": 105
        }
      ]
    },
    {
      "cell_type": "markdown",
      "source": [
        "Menampilkan beberapa baris pertama dari data set Abalone"
      ],
      "metadata": {
        "id": "W5UUkg2kL97z"
      },
      "id": "W5UUkg2kL97z"
    },
    {
      "cell_type": "code",
      "source": [
        "print(\"Jumlah Baris : \", Data.shape[0])\n",
        "print(\"Jumlah Kolom : \", Data.shape[1])"
      ],
      "metadata": {
        "id": "R-lSNW5OUesl",
        "colab": {
          "base_uri": "https://localhost:8080/"
        },
        "outputId": "40297587-2f34-4cb2-e068-5599cdb7cd26"
      },
      "id": "R-lSNW5OUesl",
      "execution_count": null,
      "outputs": [
        {
          "output_type": "stream",
          "name": "stdout",
          "text": [
            "Jumlah Baris :  4177\n",
            "Jumlah Kolom :  9\n"
          ]
        }
      ]
    },
    {
      "cell_type": "markdown",
      "source": [
        "Menampilkan banyak fitur dan banyak data di data set Abalon"
      ],
      "metadata": {
        "id": "b8liyV0AL_rh"
      },
      "id": "b8liyV0AL_rh"
    },
    {
      "cell_type": "code",
      "source": [
        "Data.info()"
      ],
      "metadata": {
        "id": "pzgaAOzNUiJx",
        "colab": {
          "base_uri": "https://localhost:8080/"
        },
        "outputId": "f2e63f20-9928-4e1a-84c3-819bd6f3a237"
      },
      "id": "pzgaAOzNUiJx",
      "execution_count": null,
      "outputs": [
        {
          "output_type": "stream",
          "name": "stdout",
          "text": [
            "<class 'pandas.core.frame.DataFrame'>\n",
            "RangeIndex: 4177 entries, 0 to 4176\n",
            "Data columns (total 9 columns):\n",
            " #   Column         Non-Null Count  Dtype  \n",
            "---  ------         --------------  -----  \n",
            " 0   Sex            4177 non-null   object \n",
            " 1   Length         4177 non-null   float64\n",
            " 2   Diameter       4177 non-null   float64\n",
            " 3   Height         4177 non-null   float64\n",
            " 4   Wholeweight    4177 non-null   float64\n",
            " 5   Shuckedweight  4177 non-null   float64\n",
            " 6   Visceraweight  4177 non-null   float64\n",
            " 7   Shellweight    4177 non-null   float64\n",
            " 8   Rings          4177 non-null   int64  \n",
            "dtypes: float64(7), int64(1), object(1)\n",
            "memory usage: 293.8+ KB\n"
          ]
        }
      ]
    },
    {
      "cell_type": "markdown",
      "source": [
        "Mengecek data set abalon apakah ada data yang kosong atau tidak dan mengecek tipe datanya. Kemudian di infokan bahwa tidak ada data yang kosong"
      ],
      "metadata": {
        "id": "ZmqqXtaEMIKt"
      },
      "id": "ZmqqXtaEMIKt"
    },
    {
      "cell_type": "code",
      "source": [
        "Data.describe()"
      ],
      "metadata": {
        "id": "4olJww22tn9w",
        "colab": {
          "base_uri": "https://localhost:8080/",
          "height": 300
        },
        "outputId": "370f1a13-5916-4222-eef6-8b21037d6c36"
      },
      "id": "4olJww22tn9w",
      "execution_count": null,
      "outputs": [
        {
          "output_type": "execute_result",
          "data": {
            "text/plain": [
              "            Length     Diameter       Height  Wholeweight  Shuckedweight  \\\n",
              "count  4177.000000  4177.000000  4177.000000  4177.000000    4177.000000   \n",
              "mean      0.523992     0.407881     0.139516     0.828742       0.359367   \n",
              "std       0.120093     0.099240     0.041827     0.490389       0.221963   \n",
              "min       0.075000     0.055000     0.000000     0.002000       0.001000   \n",
              "25%       0.450000     0.350000     0.115000     0.441500       0.186000   \n",
              "50%       0.545000     0.425000     0.140000     0.799500       0.336000   \n",
              "75%       0.615000     0.480000     0.165000     1.153000       0.502000   \n",
              "max       0.815000     0.650000     1.130000     2.825500       1.488000   \n",
              "\n",
              "       Visceraweight  Shellweight        Rings  \n",
              "count    4177.000000  4177.000000  4177.000000  \n",
              "mean        0.180594     0.238831     9.933684  \n",
              "std         0.109614     0.139203     3.224169  \n",
              "min         0.000500     0.001500     1.000000  \n",
              "25%         0.093500     0.130000     8.000000  \n",
              "50%         0.171000     0.234000     9.000000  \n",
              "75%         0.253000     0.329000    11.000000  \n",
              "max         0.760000     1.005000    29.000000  "
            ],
            "text/html": [
              "\n",
              "  <div id=\"df-73b036ae-0745-446a-8035-0108d0988452\" class=\"colab-df-container\">\n",
              "    <div>\n",
              "<style scoped>\n",
              "    .dataframe tbody tr th:only-of-type {\n",
              "        vertical-align: middle;\n",
              "    }\n",
              "\n",
              "    .dataframe tbody tr th {\n",
              "        vertical-align: top;\n",
              "    }\n",
              "\n",
              "    .dataframe thead th {\n",
              "        text-align: right;\n",
              "    }\n",
              "</style>\n",
              "<table border=\"1\" class=\"dataframe\">\n",
              "  <thead>\n",
              "    <tr style=\"text-align: right;\">\n",
              "      <th></th>\n",
              "      <th>Length</th>\n",
              "      <th>Diameter</th>\n",
              "      <th>Height</th>\n",
              "      <th>Wholeweight</th>\n",
              "      <th>Shuckedweight</th>\n",
              "      <th>Visceraweight</th>\n",
              "      <th>Shellweight</th>\n",
              "      <th>Rings</th>\n",
              "    </tr>\n",
              "  </thead>\n",
              "  <tbody>\n",
              "    <tr>\n",
              "      <th>count</th>\n",
              "      <td>4177.000000</td>\n",
              "      <td>4177.000000</td>\n",
              "      <td>4177.000000</td>\n",
              "      <td>4177.000000</td>\n",
              "      <td>4177.000000</td>\n",
              "      <td>4177.000000</td>\n",
              "      <td>4177.000000</td>\n",
              "      <td>4177.000000</td>\n",
              "    </tr>\n",
              "    <tr>\n",
              "      <th>mean</th>\n",
              "      <td>0.523992</td>\n",
              "      <td>0.407881</td>\n",
              "      <td>0.139516</td>\n",
              "      <td>0.828742</td>\n",
              "      <td>0.359367</td>\n",
              "      <td>0.180594</td>\n",
              "      <td>0.238831</td>\n",
              "      <td>9.933684</td>\n",
              "    </tr>\n",
              "    <tr>\n",
              "      <th>std</th>\n",
              "      <td>0.120093</td>\n",
              "      <td>0.099240</td>\n",
              "      <td>0.041827</td>\n",
              "      <td>0.490389</td>\n",
              "      <td>0.221963</td>\n",
              "      <td>0.109614</td>\n",
              "      <td>0.139203</td>\n",
              "      <td>3.224169</td>\n",
              "    </tr>\n",
              "    <tr>\n",
              "      <th>min</th>\n",
              "      <td>0.075000</td>\n",
              "      <td>0.055000</td>\n",
              "      <td>0.000000</td>\n",
              "      <td>0.002000</td>\n",
              "      <td>0.001000</td>\n",
              "      <td>0.000500</td>\n",
              "      <td>0.001500</td>\n",
              "      <td>1.000000</td>\n",
              "    </tr>\n",
              "    <tr>\n",
              "      <th>25%</th>\n",
              "      <td>0.450000</td>\n",
              "      <td>0.350000</td>\n",
              "      <td>0.115000</td>\n",
              "      <td>0.441500</td>\n",
              "      <td>0.186000</td>\n",
              "      <td>0.093500</td>\n",
              "      <td>0.130000</td>\n",
              "      <td>8.000000</td>\n",
              "    </tr>\n",
              "    <tr>\n",
              "      <th>50%</th>\n",
              "      <td>0.545000</td>\n",
              "      <td>0.425000</td>\n",
              "      <td>0.140000</td>\n",
              "      <td>0.799500</td>\n",
              "      <td>0.336000</td>\n",
              "      <td>0.171000</td>\n",
              "      <td>0.234000</td>\n",
              "      <td>9.000000</td>\n",
              "    </tr>\n",
              "    <tr>\n",
              "      <th>75%</th>\n",
              "      <td>0.615000</td>\n",
              "      <td>0.480000</td>\n",
              "      <td>0.165000</td>\n",
              "      <td>1.153000</td>\n",
              "      <td>0.502000</td>\n",
              "      <td>0.253000</td>\n",
              "      <td>0.329000</td>\n",
              "      <td>11.000000</td>\n",
              "    </tr>\n",
              "    <tr>\n",
              "      <th>max</th>\n",
              "      <td>0.815000</td>\n",
              "      <td>0.650000</td>\n",
              "      <td>1.130000</td>\n",
              "      <td>2.825500</td>\n",
              "      <td>1.488000</td>\n",
              "      <td>0.760000</td>\n",
              "      <td>1.005000</td>\n",
              "      <td>29.000000</td>\n",
              "    </tr>\n",
              "  </tbody>\n",
              "</table>\n",
              "</div>\n",
              "    <div class=\"colab-df-buttons\">\n",
              "\n",
              "  <div class=\"colab-df-container\">\n",
              "    <button class=\"colab-df-convert\" onclick=\"convertToInteractive('df-73b036ae-0745-446a-8035-0108d0988452')\"\n",
              "            title=\"Convert this dataframe to an interactive table.\"\n",
              "            style=\"display:none;\">\n",
              "\n",
              "  <svg xmlns=\"http://www.w3.org/2000/svg\" height=\"24px\" viewBox=\"0 -960 960 960\">\n",
              "    <path d=\"M120-120v-720h720v720H120Zm60-500h600v-160H180v160Zm220 220h160v-160H400v160Zm0 220h160v-160H400v160ZM180-400h160v-160H180v160Zm440 0h160v-160H620v160ZM180-180h160v-160H180v160Zm440 0h160v-160H620v160Z\"/>\n",
              "  </svg>\n",
              "    </button>\n",
              "\n",
              "  <style>\n",
              "    .colab-df-container {\n",
              "      display:flex;\n",
              "      gap: 12px;\n",
              "    }\n",
              "\n",
              "    .colab-df-convert {\n",
              "      background-color: #E8F0FE;\n",
              "      border: none;\n",
              "      border-radius: 50%;\n",
              "      cursor: pointer;\n",
              "      display: none;\n",
              "      fill: #1967D2;\n",
              "      height: 32px;\n",
              "      padding: 0 0 0 0;\n",
              "      width: 32px;\n",
              "    }\n",
              "\n",
              "    .colab-df-convert:hover {\n",
              "      background-color: #E2EBFA;\n",
              "      box-shadow: 0px 1px 2px rgba(60, 64, 67, 0.3), 0px 1px 3px 1px rgba(60, 64, 67, 0.15);\n",
              "      fill: #174EA6;\n",
              "    }\n",
              "\n",
              "    .colab-df-buttons div {\n",
              "      margin-bottom: 4px;\n",
              "    }\n",
              "\n",
              "    [theme=dark] .colab-df-convert {\n",
              "      background-color: #3B4455;\n",
              "      fill: #D2E3FC;\n",
              "    }\n",
              "\n",
              "    [theme=dark] .colab-df-convert:hover {\n",
              "      background-color: #434B5C;\n",
              "      box-shadow: 0px 1px 3px 1px rgba(0, 0, 0, 0.15);\n",
              "      filter: drop-shadow(0px 1px 2px rgba(0, 0, 0, 0.3));\n",
              "      fill: #FFFFFF;\n",
              "    }\n",
              "  </style>\n",
              "\n",
              "    <script>\n",
              "      const buttonEl =\n",
              "        document.querySelector('#df-73b036ae-0745-446a-8035-0108d0988452 button.colab-df-convert');\n",
              "      buttonEl.style.display =\n",
              "        google.colab.kernel.accessAllowed ? 'block' : 'none';\n",
              "\n",
              "      async function convertToInteractive(key) {\n",
              "        const element = document.querySelector('#df-73b036ae-0745-446a-8035-0108d0988452');\n",
              "        const dataTable =\n",
              "          await google.colab.kernel.invokeFunction('convertToInteractive',\n",
              "                                                    [key], {});\n",
              "        if (!dataTable) return;\n",
              "\n",
              "        const docLinkHtml = 'Like what you see? Visit the ' +\n",
              "          '<a target=\"_blank\" href=https://colab.research.google.com/notebooks/data_table.ipynb>data table notebook</a>'\n",
              "          + ' to learn more about interactive tables.';\n",
              "        element.innerHTML = '';\n",
              "        dataTable['output_type'] = 'display_data';\n",
              "        await google.colab.output.renderOutput(dataTable, element);\n",
              "        const docLink = document.createElement('div');\n",
              "        docLink.innerHTML = docLinkHtml;\n",
              "        element.appendChild(docLink);\n",
              "      }\n",
              "    </script>\n",
              "  </div>\n",
              "\n",
              "\n",
              "<div id=\"df-de304bfd-bd43-4974-bb8e-33acc2c2f650\">\n",
              "  <button class=\"colab-df-quickchart\" onclick=\"quickchart('df-de304bfd-bd43-4974-bb8e-33acc2c2f650')\"\n",
              "            title=\"Suggest charts\"\n",
              "            style=\"display:none;\">\n",
              "\n",
              "<svg xmlns=\"http://www.w3.org/2000/svg\" height=\"24px\"viewBox=\"0 0 24 24\"\n",
              "     width=\"24px\">\n",
              "    <g>\n",
              "        <path d=\"M19 3H5c-1.1 0-2 .9-2 2v14c0 1.1.9 2 2 2h14c1.1 0 2-.9 2-2V5c0-1.1-.9-2-2-2zM9 17H7v-7h2v7zm4 0h-2V7h2v10zm4 0h-2v-4h2v4z\"/>\n",
              "    </g>\n",
              "</svg>\n",
              "  </button>\n",
              "\n",
              "<style>\n",
              "  .colab-df-quickchart {\n",
              "      --bg-color: #E8F0FE;\n",
              "      --fill-color: #1967D2;\n",
              "      --hover-bg-color: #E2EBFA;\n",
              "      --hover-fill-color: #174EA6;\n",
              "      --disabled-fill-color: #AAA;\n",
              "      --disabled-bg-color: #DDD;\n",
              "  }\n",
              "\n",
              "  [theme=dark] .colab-df-quickchart {\n",
              "      --bg-color: #3B4455;\n",
              "      --fill-color: #D2E3FC;\n",
              "      --hover-bg-color: #434B5C;\n",
              "      --hover-fill-color: #FFFFFF;\n",
              "      --disabled-bg-color: #3B4455;\n",
              "      --disabled-fill-color: #666;\n",
              "  }\n",
              "\n",
              "  .colab-df-quickchart {\n",
              "    background-color: var(--bg-color);\n",
              "    border: none;\n",
              "    border-radius: 50%;\n",
              "    cursor: pointer;\n",
              "    display: none;\n",
              "    fill: var(--fill-color);\n",
              "    height: 32px;\n",
              "    padding: 0;\n",
              "    width: 32px;\n",
              "  }\n",
              "\n",
              "  .colab-df-quickchart:hover {\n",
              "    background-color: var(--hover-bg-color);\n",
              "    box-shadow: 0 1px 2px rgba(60, 64, 67, 0.3), 0 1px 3px 1px rgba(60, 64, 67, 0.15);\n",
              "    fill: var(--button-hover-fill-color);\n",
              "  }\n",
              "\n",
              "  .colab-df-quickchart-complete:disabled,\n",
              "  .colab-df-quickchart-complete:disabled:hover {\n",
              "    background-color: var(--disabled-bg-color);\n",
              "    fill: var(--disabled-fill-color);\n",
              "    box-shadow: none;\n",
              "  }\n",
              "\n",
              "  .colab-df-spinner {\n",
              "    border: 2px solid var(--fill-color);\n",
              "    border-color: transparent;\n",
              "    border-bottom-color: var(--fill-color);\n",
              "    animation:\n",
              "      spin 1s steps(1) infinite;\n",
              "  }\n",
              "\n",
              "  @keyframes spin {\n",
              "    0% {\n",
              "      border-color: transparent;\n",
              "      border-bottom-color: var(--fill-color);\n",
              "      border-left-color: var(--fill-color);\n",
              "    }\n",
              "    20% {\n",
              "      border-color: transparent;\n",
              "      border-left-color: var(--fill-color);\n",
              "      border-top-color: var(--fill-color);\n",
              "    }\n",
              "    30% {\n",
              "      border-color: transparent;\n",
              "      border-left-color: var(--fill-color);\n",
              "      border-top-color: var(--fill-color);\n",
              "      border-right-color: var(--fill-color);\n",
              "    }\n",
              "    40% {\n",
              "      border-color: transparent;\n",
              "      border-right-color: var(--fill-color);\n",
              "      border-top-color: var(--fill-color);\n",
              "    }\n",
              "    60% {\n",
              "      border-color: transparent;\n",
              "      border-right-color: var(--fill-color);\n",
              "    }\n",
              "    80% {\n",
              "      border-color: transparent;\n",
              "      border-right-color: var(--fill-color);\n",
              "      border-bottom-color: var(--fill-color);\n",
              "    }\n",
              "    90% {\n",
              "      border-color: transparent;\n",
              "      border-bottom-color: var(--fill-color);\n",
              "    }\n",
              "  }\n",
              "</style>\n",
              "\n",
              "  <script>\n",
              "    async function quickchart(key) {\n",
              "      const quickchartButtonEl =\n",
              "        document.querySelector('#' + key + ' button');\n",
              "      quickchartButtonEl.disabled = true;  // To prevent multiple clicks.\n",
              "      quickchartButtonEl.classList.add('colab-df-spinner');\n",
              "      try {\n",
              "        const charts = await google.colab.kernel.invokeFunction(\n",
              "            'suggestCharts', [key], {});\n",
              "      } catch (error) {\n",
              "        console.error('Error during call to suggestCharts:', error);\n",
              "      }\n",
              "      quickchartButtonEl.classList.remove('colab-df-spinner');\n",
              "      quickchartButtonEl.classList.add('colab-df-quickchart-complete');\n",
              "    }\n",
              "    (() => {\n",
              "      let quickchartButtonEl =\n",
              "        document.querySelector('#df-de304bfd-bd43-4974-bb8e-33acc2c2f650 button');\n",
              "      quickchartButtonEl.style.display =\n",
              "        google.colab.kernel.accessAllowed ? 'block' : 'none';\n",
              "    })();\n",
              "  </script>\n",
              "</div>\n",
              "    </div>\n",
              "  </div>\n"
            ]
          },
          "metadata": {},
          "execution_count": 108
        }
      ]
    },
    {
      "cell_type": "markdown",
      "source": [
        "Analisi :\n",
        "Seperti yang kita bisa lihat pada kolom Height nilai minimumnya adalah 0, karena itu tidak mungkin maka kami akan menghilangkannya."
      ],
      "metadata": {
        "id": "TSAE2Mq09mrR"
      },
      "id": "TSAE2Mq09mrR"
    },
    {
      "cell_type": "markdown",
      "source": [
        "# Data Preprocessing dan Explorasi Data"
      ],
      "metadata": {
        "id": "bXSzZSHsT8sl"
      },
      "id": "bXSzZSHsT8sl"
    },
    {
      "cell_type": "code",
      "source": [
        "Data[Data['Height']==0]"
      ],
      "metadata": {
        "colab": {
          "base_uri": "https://localhost:8080/",
          "height": 112
        },
        "id": "1qroNN5l-Aqw",
        "outputId": "d2e48718-dd3e-4abe-a5e2-c114a4724f82"
      },
      "id": "1qroNN5l-Aqw",
      "execution_count": null,
      "outputs": [
        {
          "output_type": "execute_result",
          "data": {
            "text/plain": [
              "     Sex  Length  Diameter  Height  Wholeweight  Shuckedweight  Visceraweight  \\\n",
              "1257   I   0.430      0.34     0.0        0.428         0.2065         0.0860   \n",
              "3996   I   0.315      0.23     0.0        0.134         0.0575         0.0285   \n",
              "\n",
              "      Shellweight  Rings  \n",
              "1257       0.1150      8  \n",
              "3996       0.3505      6  "
            ],
            "text/html": [
              "\n",
              "  <div id=\"df-dde3ad5b-c7bf-4ba1-9b46-d58b7a649f89\" class=\"colab-df-container\">\n",
              "    <div>\n",
              "<style scoped>\n",
              "    .dataframe tbody tr th:only-of-type {\n",
              "        vertical-align: middle;\n",
              "    }\n",
              "\n",
              "    .dataframe tbody tr th {\n",
              "        vertical-align: top;\n",
              "    }\n",
              "\n",
              "    .dataframe thead th {\n",
              "        text-align: right;\n",
              "    }\n",
              "</style>\n",
              "<table border=\"1\" class=\"dataframe\">\n",
              "  <thead>\n",
              "    <tr style=\"text-align: right;\">\n",
              "      <th></th>\n",
              "      <th>Sex</th>\n",
              "      <th>Length</th>\n",
              "      <th>Diameter</th>\n",
              "      <th>Height</th>\n",
              "      <th>Wholeweight</th>\n",
              "      <th>Shuckedweight</th>\n",
              "      <th>Visceraweight</th>\n",
              "      <th>Shellweight</th>\n",
              "      <th>Rings</th>\n",
              "    </tr>\n",
              "  </thead>\n",
              "  <tbody>\n",
              "    <tr>\n",
              "      <th>1257</th>\n",
              "      <td>I</td>\n",
              "      <td>0.430</td>\n",
              "      <td>0.34</td>\n",
              "      <td>0.0</td>\n",
              "      <td>0.428</td>\n",
              "      <td>0.2065</td>\n",
              "      <td>0.0860</td>\n",
              "      <td>0.1150</td>\n",
              "      <td>8</td>\n",
              "    </tr>\n",
              "    <tr>\n",
              "      <th>3996</th>\n",
              "      <td>I</td>\n",
              "      <td>0.315</td>\n",
              "      <td>0.23</td>\n",
              "      <td>0.0</td>\n",
              "      <td>0.134</td>\n",
              "      <td>0.0575</td>\n",
              "      <td>0.0285</td>\n",
              "      <td>0.3505</td>\n",
              "      <td>6</td>\n",
              "    </tr>\n",
              "  </tbody>\n",
              "</table>\n",
              "</div>\n",
              "    <div class=\"colab-df-buttons\">\n",
              "\n",
              "  <div class=\"colab-df-container\">\n",
              "    <button class=\"colab-df-convert\" onclick=\"convertToInteractive('df-dde3ad5b-c7bf-4ba1-9b46-d58b7a649f89')\"\n",
              "            title=\"Convert this dataframe to an interactive table.\"\n",
              "            style=\"display:none;\">\n",
              "\n",
              "  <svg xmlns=\"http://www.w3.org/2000/svg\" height=\"24px\" viewBox=\"0 -960 960 960\">\n",
              "    <path d=\"M120-120v-720h720v720H120Zm60-500h600v-160H180v160Zm220 220h160v-160H400v160Zm0 220h160v-160H400v160ZM180-400h160v-160H180v160Zm440 0h160v-160H620v160ZM180-180h160v-160H180v160Zm440 0h160v-160H620v160Z\"/>\n",
              "  </svg>\n",
              "    </button>\n",
              "\n",
              "  <style>\n",
              "    .colab-df-container {\n",
              "      display:flex;\n",
              "      gap: 12px;\n",
              "    }\n",
              "\n",
              "    .colab-df-convert {\n",
              "      background-color: #E8F0FE;\n",
              "      border: none;\n",
              "      border-radius: 50%;\n",
              "      cursor: pointer;\n",
              "      display: none;\n",
              "      fill: #1967D2;\n",
              "      height: 32px;\n",
              "      padding: 0 0 0 0;\n",
              "      width: 32px;\n",
              "    }\n",
              "\n",
              "    .colab-df-convert:hover {\n",
              "      background-color: #E2EBFA;\n",
              "      box-shadow: 0px 1px 2px rgba(60, 64, 67, 0.3), 0px 1px 3px 1px rgba(60, 64, 67, 0.15);\n",
              "      fill: #174EA6;\n",
              "    }\n",
              "\n",
              "    .colab-df-buttons div {\n",
              "      margin-bottom: 4px;\n",
              "    }\n",
              "\n",
              "    [theme=dark] .colab-df-convert {\n",
              "      background-color: #3B4455;\n",
              "      fill: #D2E3FC;\n",
              "    }\n",
              "\n",
              "    [theme=dark] .colab-df-convert:hover {\n",
              "      background-color: #434B5C;\n",
              "      box-shadow: 0px 1px 3px 1px rgba(0, 0, 0, 0.15);\n",
              "      filter: drop-shadow(0px 1px 2px rgba(0, 0, 0, 0.3));\n",
              "      fill: #FFFFFF;\n",
              "    }\n",
              "  </style>\n",
              "\n",
              "    <script>\n",
              "      const buttonEl =\n",
              "        document.querySelector('#df-dde3ad5b-c7bf-4ba1-9b46-d58b7a649f89 button.colab-df-convert');\n",
              "      buttonEl.style.display =\n",
              "        google.colab.kernel.accessAllowed ? 'block' : 'none';\n",
              "\n",
              "      async function convertToInteractive(key) {\n",
              "        const element = document.querySelector('#df-dde3ad5b-c7bf-4ba1-9b46-d58b7a649f89');\n",
              "        const dataTable =\n",
              "          await google.colab.kernel.invokeFunction('convertToInteractive',\n",
              "                                                    [key], {});\n",
              "        if (!dataTable) return;\n",
              "\n",
              "        const docLinkHtml = 'Like what you see? Visit the ' +\n",
              "          '<a target=\"_blank\" href=https://colab.research.google.com/notebooks/data_table.ipynb>data table notebook</a>'\n",
              "          + ' to learn more about interactive tables.';\n",
              "        element.innerHTML = '';\n",
              "        dataTable['output_type'] = 'display_data';\n",
              "        await google.colab.output.renderOutput(dataTable, element);\n",
              "        const docLink = document.createElement('div');\n",
              "        docLink.innerHTML = docLinkHtml;\n",
              "        element.appendChild(docLink);\n",
              "      }\n",
              "    </script>\n",
              "  </div>\n",
              "\n",
              "\n",
              "<div id=\"df-a8a917dc-32eb-474f-b5e9-08d9dc0984e8\">\n",
              "  <button class=\"colab-df-quickchart\" onclick=\"quickchart('df-a8a917dc-32eb-474f-b5e9-08d9dc0984e8')\"\n",
              "            title=\"Suggest charts\"\n",
              "            style=\"display:none;\">\n",
              "\n",
              "<svg xmlns=\"http://www.w3.org/2000/svg\" height=\"24px\"viewBox=\"0 0 24 24\"\n",
              "     width=\"24px\">\n",
              "    <g>\n",
              "        <path d=\"M19 3H5c-1.1 0-2 .9-2 2v14c0 1.1.9 2 2 2h14c1.1 0 2-.9 2-2V5c0-1.1-.9-2-2-2zM9 17H7v-7h2v7zm4 0h-2V7h2v10zm4 0h-2v-4h2v4z\"/>\n",
              "    </g>\n",
              "</svg>\n",
              "  </button>\n",
              "\n",
              "<style>\n",
              "  .colab-df-quickchart {\n",
              "      --bg-color: #E8F0FE;\n",
              "      --fill-color: #1967D2;\n",
              "      --hover-bg-color: #E2EBFA;\n",
              "      --hover-fill-color: #174EA6;\n",
              "      --disabled-fill-color: #AAA;\n",
              "      --disabled-bg-color: #DDD;\n",
              "  }\n",
              "\n",
              "  [theme=dark] .colab-df-quickchart {\n",
              "      --bg-color: #3B4455;\n",
              "      --fill-color: #D2E3FC;\n",
              "      --hover-bg-color: #434B5C;\n",
              "      --hover-fill-color: #FFFFFF;\n",
              "      --disabled-bg-color: #3B4455;\n",
              "      --disabled-fill-color: #666;\n",
              "  }\n",
              "\n",
              "  .colab-df-quickchart {\n",
              "    background-color: var(--bg-color);\n",
              "    border: none;\n",
              "    border-radius: 50%;\n",
              "    cursor: pointer;\n",
              "    display: none;\n",
              "    fill: var(--fill-color);\n",
              "    height: 32px;\n",
              "    padding: 0;\n",
              "    width: 32px;\n",
              "  }\n",
              "\n",
              "  .colab-df-quickchart:hover {\n",
              "    background-color: var(--hover-bg-color);\n",
              "    box-shadow: 0 1px 2px rgba(60, 64, 67, 0.3), 0 1px 3px 1px rgba(60, 64, 67, 0.15);\n",
              "    fill: var(--button-hover-fill-color);\n",
              "  }\n",
              "\n",
              "  .colab-df-quickchart-complete:disabled,\n",
              "  .colab-df-quickchart-complete:disabled:hover {\n",
              "    background-color: var(--disabled-bg-color);\n",
              "    fill: var(--disabled-fill-color);\n",
              "    box-shadow: none;\n",
              "  }\n",
              "\n",
              "  .colab-df-spinner {\n",
              "    border: 2px solid var(--fill-color);\n",
              "    border-color: transparent;\n",
              "    border-bottom-color: var(--fill-color);\n",
              "    animation:\n",
              "      spin 1s steps(1) infinite;\n",
              "  }\n",
              "\n",
              "  @keyframes spin {\n",
              "    0% {\n",
              "      border-color: transparent;\n",
              "      border-bottom-color: var(--fill-color);\n",
              "      border-left-color: var(--fill-color);\n",
              "    }\n",
              "    20% {\n",
              "      border-color: transparent;\n",
              "      border-left-color: var(--fill-color);\n",
              "      border-top-color: var(--fill-color);\n",
              "    }\n",
              "    30% {\n",
              "      border-color: transparent;\n",
              "      border-left-color: var(--fill-color);\n",
              "      border-top-color: var(--fill-color);\n",
              "      border-right-color: var(--fill-color);\n",
              "    }\n",
              "    40% {\n",
              "      border-color: transparent;\n",
              "      border-right-color: var(--fill-color);\n",
              "      border-top-color: var(--fill-color);\n",
              "    }\n",
              "    60% {\n",
              "      border-color: transparent;\n",
              "      border-right-color: var(--fill-color);\n",
              "    }\n",
              "    80% {\n",
              "      border-color: transparent;\n",
              "      border-right-color: var(--fill-color);\n",
              "      border-bottom-color: var(--fill-color);\n",
              "    }\n",
              "    90% {\n",
              "      border-color: transparent;\n",
              "      border-bottom-color: var(--fill-color);\n",
              "    }\n",
              "  }\n",
              "</style>\n",
              "\n",
              "  <script>\n",
              "    async function quickchart(key) {\n",
              "      const quickchartButtonEl =\n",
              "        document.querySelector('#' + key + ' button');\n",
              "      quickchartButtonEl.disabled = true;  // To prevent multiple clicks.\n",
              "      quickchartButtonEl.classList.add('colab-df-spinner');\n",
              "      try {\n",
              "        const charts = await google.colab.kernel.invokeFunction(\n",
              "            'suggestCharts', [key], {});\n",
              "      } catch (error) {\n",
              "        console.error('Error during call to suggestCharts:', error);\n",
              "      }\n",
              "      quickchartButtonEl.classList.remove('colab-df-spinner');\n",
              "      quickchartButtonEl.classList.add('colab-df-quickchart-complete');\n",
              "    }\n",
              "    (() => {\n",
              "      let quickchartButtonEl =\n",
              "        document.querySelector('#df-a8a917dc-32eb-474f-b5e9-08d9dc0984e8 button');\n",
              "      quickchartButtonEl.style.display =\n",
              "        google.colab.kernel.accessAllowed ? 'block' : 'none';\n",
              "    })();\n",
              "  </script>\n",
              "</div>\n",
              "    </div>\n",
              "  </div>\n"
            ]
          },
          "metadata": {},
          "execution_count": 109
        }
      ]
    },
    {
      "cell_type": "markdown",
      "source": [
        "Menghilangkan nilai 0 dalam Height."
      ],
      "metadata": {
        "id": "R4iQ86ry-Ihx"
      },
      "id": "R4iQ86ry-Ihx"
    },
    {
      "cell_type": "code",
      "source": [
        "Data.drop(index=[1257,3996], inplace = True)\n",
        "Data.shape"
      ],
      "metadata": {
        "colab": {
          "base_uri": "https://localhost:8080/"
        },
        "id": "k8qwBhok-jD8",
        "outputId": "e5c56458-8dd4-45f5-ef8b-9c8286f56f1b"
      },
      "id": "k8qwBhok-jD8",
      "execution_count": null,
      "outputs": [
        {
          "output_type": "execute_result",
          "data": {
            "text/plain": [
              "(4175, 9)"
            ]
          },
          "metadata": {},
          "execution_count": 110
        }
      ]
    },
    {
      "cell_type": "markdown",
      "source": [
        "Membuat age dari rings+1.5"
      ],
      "metadata": {
        "id": "i-pgsCIrKfyd"
      },
      "id": "i-pgsCIrKfyd"
    },
    {
      "cell_type": "code",
      "source": [
        "Data['Age'] = Data['Rings']+1.5 #seperti deskripsi\n",
        "Data.drop('Rings', axis = 1, inplace = True)\n",
        "Data.head()"
      ],
      "metadata": {
        "colab": {
          "base_uri": "https://localhost:8080/",
          "height": 206
        },
        "id": "vf1oSHIF-9qi",
        "outputId": "94462490-90eb-46c5-912a-bb6ae65c0095"
      },
      "id": "vf1oSHIF-9qi",
      "execution_count": null,
      "outputs": [
        {
          "output_type": "execute_result",
          "data": {
            "text/plain": [
              "  Sex  Length  Diameter  Height  Wholeweight  Shuckedweight  Visceraweight  \\\n",
              "0   M   0.455     0.365   0.095       0.5140         0.2245         0.1010   \n",
              "1   M   0.350     0.265   0.090       0.2255         0.0995         0.0485   \n",
              "2   F   0.530     0.420   0.135       0.6770         0.2565         0.1415   \n",
              "3   M   0.440     0.365   0.125       0.5160         0.2155         0.1140   \n",
              "4   I   0.330     0.255   0.080       0.2050         0.0895         0.0395   \n",
              "\n",
              "   Shellweight   Age  \n",
              "0        0.150  16.5  \n",
              "1        0.070   8.5  \n",
              "2        0.210  10.5  \n",
              "3        0.155  11.5  \n",
              "4        0.055   8.5  "
            ],
            "text/html": [
              "\n",
              "  <div id=\"df-f3a9d140-5b69-420d-827c-efd6398c9c11\" class=\"colab-df-container\">\n",
              "    <div>\n",
              "<style scoped>\n",
              "    .dataframe tbody tr th:only-of-type {\n",
              "        vertical-align: middle;\n",
              "    }\n",
              "\n",
              "    .dataframe tbody tr th {\n",
              "        vertical-align: top;\n",
              "    }\n",
              "\n",
              "    .dataframe thead th {\n",
              "        text-align: right;\n",
              "    }\n",
              "</style>\n",
              "<table border=\"1\" class=\"dataframe\">\n",
              "  <thead>\n",
              "    <tr style=\"text-align: right;\">\n",
              "      <th></th>\n",
              "      <th>Sex</th>\n",
              "      <th>Length</th>\n",
              "      <th>Diameter</th>\n",
              "      <th>Height</th>\n",
              "      <th>Wholeweight</th>\n",
              "      <th>Shuckedweight</th>\n",
              "      <th>Visceraweight</th>\n",
              "      <th>Shellweight</th>\n",
              "      <th>Age</th>\n",
              "    </tr>\n",
              "  </thead>\n",
              "  <tbody>\n",
              "    <tr>\n",
              "      <th>0</th>\n",
              "      <td>M</td>\n",
              "      <td>0.455</td>\n",
              "      <td>0.365</td>\n",
              "      <td>0.095</td>\n",
              "      <td>0.5140</td>\n",
              "      <td>0.2245</td>\n",
              "      <td>0.1010</td>\n",
              "      <td>0.150</td>\n",
              "      <td>16.5</td>\n",
              "    </tr>\n",
              "    <tr>\n",
              "      <th>1</th>\n",
              "      <td>M</td>\n",
              "      <td>0.350</td>\n",
              "      <td>0.265</td>\n",
              "      <td>0.090</td>\n",
              "      <td>0.2255</td>\n",
              "      <td>0.0995</td>\n",
              "      <td>0.0485</td>\n",
              "      <td>0.070</td>\n",
              "      <td>8.5</td>\n",
              "    </tr>\n",
              "    <tr>\n",
              "      <th>2</th>\n",
              "      <td>F</td>\n",
              "      <td>0.530</td>\n",
              "      <td>0.420</td>\n",
              "      <td>0.135</td>\n",
              "      <td>0.6770</td>\n",
              "      <td>0.2565</td>\n",
              "      <td>0.1415</td>\n",
              "      <td>0.210</td>\n",
              "      <td>10.5</td>\n",
              "    </tr>\n",
              "    <tr>\n",
              "      <th>3</th>\n",
              "      <td>M</td>\n",
              "      <td>0.440</td>\n",
              "      <td>0.365</td>\n",
              "      <td>0.125</td>\n",
              "      <td>0.5160</td>\n",
              "      <td>0.2155</td>\n",
              "      <td>0.1140</td>\n",
              "      <td>0.155</td>\n",
              "      <td>11.5</td>\n",
              "    </tr>\n",
              "    <tr>\n",
              "      <th>4</th>\n",
              "      <td>I</td>\n",
              "      <td>0.330</td>\n",
              "      <td>0.255</td>\n",
              "      <td>0.080</td>\n",
              "      <td>0.2050</td>\n",
              "      <td>0.0895</td>\n",
              "      <td>0.0395</td>\n",
              "      <td>0.055</td>\n",
              "      <td>8.5</td>\n",
              "    </tr>\n",
              "  </tbody>\n",
              "</table>\n",
              "</div>\n",
              "    <div class=\"colab-df-buttons\">\n",
              "\n",
              "  <div class=\"colab-df-container\">\n",
              "    <button class=\"colab-df-convert\" onclick=\"convertToInteractive('df-f3a9d140-5b69-420d-827c-efd6398c9c11')\"\n",
              "            title=\"Convert this dataframe to an interactive table.\"\n",
              "            style=\"display:none;\">\n",
              "\n",
              "  <svg xmlns=\"http://www.w3.org/2000/svg\" height=\"24px\" viewBox=\"0 -960 960 960\">\n",
              "    <path d=\"M120-120v-720h720v720H120Zm60-500h600v-160H180v160Zm220 220h160v-160H400v160Zm0 220h160v-160H400v160ZM180-400h160v-160H180v160Zm440 0h160v-160H620v160ZM180-180h160v-160H180v160Zm440 0h160v-160H620v160Z\"/>\n",
              "  </svg>\n",
              "    </button>\n",
              "\n",
              "  <style>\n",
              "    .colab-df-container {\n",
              "      display:flex;\n",
              "      gap: 12px;\n",
              "    }\n",
              "\n",
              "    .colab-df-convert {\n",
              "      background-color: #E8F0FE;\n",
              "      border: none;\n",
              "      border-radius: 50%;\n",
              "      cursor: pointer;\n",
              "      display: none;\n",
              "      fill: #1967D2;\n",
              "      height: 32px;\n",
              "      padding: 0 0 0 0;\n",
              "      width: 32px;\n",
              "    }\n",
              "\n",
              "    .colab-df-convert:hover {\n",
              "      background-color: #E2EBFA;\n",
              "      box-shadow: 0px 1px 2px rgba(60, 64, 67, 0.3), 0px 1px 3px 1px rgba(60, 64, 67, 0.15);\n",
              "      fill: #174EA6;\n",
              "    }\n",
              "\n",
              "    .colab-df-buttons div {\n",
              "      margin-bottom: 4px;\n",
              "    }\n",
              "\n",
              "    [theme=dark] .colab-df-convert {\n",
              "      background-color: #3B4455;\n",
              "      fill: #D2E3FC;\n",
              "    }\n",
              "\n",
              "    [theme=dark] .colab-df-convert:hover {\n",
              "      background-color: #434B5C;\n",
              "      box-shadow: 0px 1px 3px 1px rgba(0, 0, 0, 0.15);\n",
              "      filter: drop-shadow(0px 1px 2px rgba(0, 0, 0, 0.3));\n",
              "      fill: #FFFFFF;\n",
              "    }\n",
              "  </style>\n",
              "\n",
              "    <script>\n",
              "      const buttonEl =\n",
              "        document.querySelector('#df-f3a9d140-5b69-420d-827c-efd6398c9c11 button.colab-df-convert');\n",
              "      buttonEl.style.display =\n",
              "        google.colab.kernel.accessAllowed ? 'block' : 'none';\n",
              "\n",
              "      async function convertToInteractive(key) {\n",
              "        const element = document.querySelector('#df-f3a9d140-5b69-420d-827c-efd6398c9c11');\n",
              "        const dataTable =\n",
              "          await google.colab.kernel.invokeFunction('convertToInteractive',\n",
              "                                                    [key], {});\n",
              "        if (!dataTable) return;\n",
              "\n",
              "        const docLinkHtml = 'Like what you see? Visit the ' +\n",
              "          '<a target=\"_blank\" href=https://colab.research.google.com/notebooks/data_table.ipynb>data table notebook</a>'\n",
              "          + ' to learn more about interactive tables.';\n",
              "        element.innerHTML = '';\n",
              "        dataTable['output_type'] = 'display_data';\n",
              "        await google.colab.output.renderOutput(dataTable, element);\n",
              "        const docLink = document.createElement('div');\n",
              "        docLink.innerHTML = docLinkHtml;\n",
              "        element.appendChild(docLink);\n",
              "      }\n",
              "    </script>\n",
              "  </div>\n",
              "\n",
              "\n",
              "<div id=\"df-f27ff008-7dde-4ca1-9f33-a584bde89529\">\n",
              "  <button class=\"colab-df-quickchart\" onclick=\"quickchart('df-f27ff008-7dde-4ca1-9f33-a584bde89529')\"\n",
              "            title=\"Suggest charts\"\n",
              "            style=\"display:none;\">\n",
              "\n",
              "<svg xmlns=\"http://www.w3.org/2000/svg\" height=\"24px\"viewBox=\"0 0 24 24\"\n",
              "     width=\"24px\">\n",
              "    <g>\n",
              "        <path d=\"M19 3H5c-1.1 0-2 .9-2 2v14c0 1.1.9 2 2 2h14c1.1 0 2-.9 2-2V5c0-1.1-.9-2-2-2zM9 17H7v-7h2v7zm4 0h-2V7h2v10zm4 0h-2v-4h2v4z\"/>\n",
              "    </g>\n",
              "</svg>\n",
              "  </button>\n",
              "\n",
              "<style>\n",
              "  .colab-df-quickchart {\n",
              "      --bg-color: #E8F0FE;\n",
              "      --fill-color: #1967D2;\n",
              "      --hover-bg-color: #E2EBFA;\n",
              "      --hover-fill-color: #174EA6;\n",
              "      --disabled-fill-color: #AAA;\n",
              "      --disabled-bg-color: #DDD;\n",
              "  }\n",
              "\n",
              "  [theme=dark] .colab-df-quickchart {\n",
              "      --bg-color: #3B4455;\n",
              "      --fill-color: #D2E3FC;\n",
              "      --hover-bg-color: #434B5C;\n",
              "      --hover-fill-color: #FFFFFF;\n",
              "      --disabled-bg-color: #3B4455;\n",
              "      --disabled-fill-color: #666;\n",
              "  }\n",
              "\n",
              "  .colab-df-quickchart {\n",
              "    background-color: var(--bg-color);\n",
              "    border: none;\n",
              "    border-radius: 50%;\n",
              "    cursor: pointer;\n",
              "    display: none;\n",
              "    fill: var(--fill-color);\n",
              "    height: 32px;\n",
              "    padding: 0;\n",
              "    width: 32px;\n",
              "  }\n",
              "\n",
              "  .colab-df-quickchart:hover {\n",
              "    background-color: var(--hover-bg-color);\n",
              "    box-shadow: 0 1px 2px rgba(60, 64, 67, 0.3), 0 1px 3px 1px rgba(60, 64, 67, 0.15);\n",
              "    fill: var(--button-hover-fill-color);\n",
              "  }\n",
              "\n",
              "  .colab-df-quickchart-complete:disabled,\n",
              "  .colab-df-quickchart-complete:disabled:hover {\n",
              "    background-color: var(--disabled-bg-color);\n",
              "    fill: var(--disabled-fill-color);\n",
              "    box-shadow: none;\n",
              "  }\n",
              "\n",
              "  .colab-df-spinner {\n",
              "    border: 2px solid var(--fill-color);\n",
              "    border-color: transparent;\n",
              "    border-bottom-color: var(--fill-color);\n",
              "    animation:\n",
              "      spin 1s steps(1) infinite;\n",
              "  }\n",
              "\n",
              "  @keyframes spin {\n",
              "    0% {\n",
              "      border-color: transparent;\n",
              "      border-bottom-color: var(--fill-color);\n",
              "      border-left-color: var(--fill-color);\n",
              "    }\n",
              "    20% {\n",
              "      border-color: transparent;\n",
              "      border-left-color: var(--fill-color);\n",
              "      border-top-color: var(--fill-color);\n",
              "    }\n",
              "    30% {\n",
              "      border-color: transparent;\n",
              "      border-left-color: var(--fill-color);\n",
              "      border-top-color: var(--fill-color);\n",
              "      border-right-color: var(--fill-color);\n",
              "    }\n",
              "    40% {\n",
              "      border-color: transparent;\n",
              "      border-right-color: var(--fill-color);\n",
              "      border-top-color: var(--fill-color);\n",
              "    }\n",
              "    60% {\n",
              "      border-color: transparent;\n",
              "      border-right-color: var(--fill-color);\n",
              "    }\n",
              "    80% {\n",
              "      border-color: transparent;\n",
              "      border-right-color: var(--fill-color);\n",
              "      border-bottom-color: var(--fill-color);\n",
              "    }\n",
              "    90% {\n",
              "      border-color: transparent;\n",
              "      border-bottom-color: var(--fill-color);\n",
              "    }\n",
              "  }\n",
              "</style>\n",
              "\n",
              "  <script>\n",
              "    async function quickchart(key) {\n",
              "      const quickchartButtonEl =\n",
              "        document.querySelector('#' + key + ' button');\n",
              "      quickchartButtonEl.disabled = true;  // To prevent multiple clicks.\n",
              "      quickchartButtonEl.classList.add('colab-df-spinner');\n",
              "      try {\n",
              "        const charts = await google.colab.kernel.invokeFunction(\n",
              "            'suggestCharts', [key], {});\n",
              "      } catch (error) {\n",
              "        console.error('Error during call to suggestCharts:', error);\n",
              "      }\n",
              "      quickchartButtonEl.classList.remove('colab-df-spinner');\n",
              "      quickchartButtonEl.classList.add('colab-df-quickchart-complete');\n",
              "    }\n",
              "    (() => {\n",
              "      let quickchartButtonEl =\n",
              "        document.querySelector('#df-f27ff008-7dde-4ca1-9f33-a584bde89529 button');\n",
              "      quickchartButtonEl.style.display =\n",
              "        google.colab.kernel.accessAllowed ? 'block' : 'none';\n",
              "    })();\n",
              "  </script>\n",
              "</div>\n",
              "    </div>\n",
              "  </div>\n"
            ]
          },
          "metadata": {},
          "execution_count": 111
        }
      ]
    },
    {
      "cell_type": "code",
      "source": [
        "Data.isna().mean().to_frame(name='% of missing values')"
      ],
      "metadata": {
        "id": "fGWi3GyAUndp",
        "colab": {
          "base_uri": "https://localhost:8080/",
          "height": 331
        },
        "outputId": "09b34ccb-d589-4261-eab9-b0d7d316f462"
      },
      "id": "fGWi3GyAUndp",
      "execution_count": null,
      "outputs": [
        {
          "output_type": "execute_result",
          "data": {
            "text/plain": [
              "               % of missing values\n",
              "Sex                            0.0\n",
              "Length                         0.0\n",
              "Diameter                       0.0\n",
              "Height                         0.0\n",
              "Wholeweight                    0.0\n",
              "Shuckedweight                  0.0\n",
              "Visceraweight                  0.0\n",
              "Shellweight                    0.0\n",
              "Age                            0.0"
            ],
            "text/html": [
              "\n",
              "  <div id=\"df-2cfa2412-d72c-44f7-b71f-70c11721c10e\" class=\"colab-df-container\">\n",
              "    <div>\n",
              "<style scoped>\n",
              "    .dataframe tbody tr th:only-of-type {\n",
              "        vertical-align: middle;\n",
              "    }\n",
              "\n",
              "    .dataframe tbody tr th {\n",
              "        vertical-align: top;\n",
              "    }\n",
              "\n",
              "    .dataframe thead th {\n",
              "        text-align: right;\n",
              "    }\n",
              "</style>\n",
              "<table border=\"1\" class=\"dataframe\">\n",
              "  <thead>\n",
              "    <tr style=\"text-align: right;\">\n",
              "      <th></th>\n",
              "      <th>% of missing values</th>\n",
              "    </tr>\n",
              "  </thead>\n",
              "  <tbody>\n",
              "    <tr>\n",
              "      <th>Sex</th>\n",
              "      <td>0.0</td>\n",
              "    </tr>\n",
              "    <tr>\n",
              "      <th>Length</th>\n",
              "      <td>0.0</td>\n",
              "    </tr>\n",
              "    <tr>\n",
              "      <th>Diameter</th>\n",
              "      <td>0.0</td>\n",
              "    </tr>\n",
              "    <tr>\n",
              "      <th>Height</th>\n",
              "      <td>0.0</td>\n",
              "    </tr>\n",
              "    <tr>\n",
              "      <th>Wholeweight</th>\n",
              "      <td>0.0</td>\n",
              "    </tr>\n",
              "    <tr>\n",
              "      <th>Shuckedweight</th>\n",
              "      <td>0.0</td>\n",
              "    </tr>\n",
              "    <tr>\n",
              "      <th>Visceraweight</th>\n",
              "      <td>0.0</td>\n",
              "    </tr>\n",
              "    <tr>\n",
              "      <th>Shellweight</th>\n",
              "      <td>0.0</td>\n",
              "    </tr>\n",
              "    <tr>\n",
              "      <th>Age</th>\n",
              "      <td>0.0</td>\n",
              "    </tr>\n",
              "  </tbody>\n",
              "</table>\n",
              "</div>\n",
              "    <div class=\"colab-df-buttons\">\n",
              "\n",
              "  <div class=\"colab-df-container\">\n",
              "    <button class=\"colab-df-convert\" onclick=\"convertToInteractive('df-2cfa2412-d72c-44f7-b71f-70c11721c10e')\"\n",
              "            title=\"Convert this dataframe to an interactive table.\"\n",
              "            style=\"display:none;\">\n",
              "\n",
              "  <svg xmlns=\"http://www.w3.org/2000/svg\" height=\"24px\" viewBox=\"0 -960 960 960\">\n",
              "    <path d=\"M120-120v-720h720v720H120Zm60-500h600v-160H180v160Zm220 220h160v-160H400v160Zm0 220h160v-160H400v160ZM180-400h160v-160H180v160Zm440 0h160v-160H620v160ZM180-180h160v-160H180v160Zm440 0h160v-160H620v160Z\"/>\n",
              "  </svg>\n",
              "    </button>\n",
              "\n",
              "  <style>\n",
              "    .colab-df-container {\n",
              "      display:flex;\n",
              "      gap: 12px;\n",
              "    }\n",
              "\n",
              "    .colab-df-convert {\n",
              "      background-color: #E8F0FE;\n",
              "      border: none;\n",
              "      border-radius: 50%;\n",
              "      cursor: pointer;\n",
              "      display: none;\n",
              "      fill: #1967D2;\n",
              "      height: 32px;\n",
              "      padding: 0 0 0 0;\n",
              "      width: 32px;\n",
              "    }\n",
              "\n",
              "    .colab-df-convert:hover {\n",
              "      background-color: #E2EBFA;\n",
              "      box-shadow: 0px 1px 2px rgba(60, 64, 67, 0.3), 0px 1px 3px 1px rgba(60, 64, 67, 0.15);\n",
              "      fill: #174EA6;\n",
              "    }\n",
              "\n",
              "    .colab-df-buttons div {\n",
              "      margin-bottom: 4px;\n",
              "    }\n",
              "\n",
              "    [theme=dark] .colab-df-convert {\n",
              "      background-color: #3B4455;\n",
              "      fill: #D2E3FC;\n",
              "    }\n",
              "\n",
              "    [theme=dark] .colab-df-convert:hover {\n",
              "      background-color: #434B5C;\n",
              "      box-shadow: 0px 1px 3px 1px rgba(0, 0, 0, 0.15);\n",
              "      filter: drop-shadow(0px 1px 2px rgba(0, 0, 0, 0.3));\n",
              "      fill: #FFFFFF;\n",
              "    }\n",
              "  </style>\n",
              "\n",
              "    <script>\n",
              "      const buttonEl =\n",
              "        document.querySelector('#df-2cfa2412-d72c-44f7-b71f-70c11721c10e button.colab-df-convert');\n",
              "      buttonEl.style.display =\n",
              "        google.colab.kernel.accessAllowed ? 'block' : 'none';\n",
              "\n",
              "      async function convertToInteractive(key) {\n",
              "        const element = document.querySelector('#df-2cfa2412-d72c-44f7-b71f-70c11721c10e');\n",
              "        const dataTable =\n",
              "          await google.colab.kernel.invokeFunction('convertToInteractive',\n",
              "                                                    [key], {});\n",
              "        if (!dataTable) return;\n",
              "\n",
              "        const docLinkHtml = 'Like what you see? Visit the ' +\n",
              "          '<a target=\"_blank\" href=https://colab.research.google.com/notebooks/data_table.ipynb>data table notebook</a>'\n",
              "          + ' to learn more about interactive tables.';\n",
              "        element.innerHTML = '';\n",
              "        dataTable['output_type'] = 'display_data';\n",
              "        await google.colab.output.renderOutput(dataTable, element);\n",
              "        const docLink = document.createElement('div');\n",
              "        docLink.innerHTML = docLinkHtml;\n",
              "        element.appendChild(docLink);\n",
              "      }\n",
              "    </script>\n",
              "  </div>\n",
              "\n",
              "\n",
              "<div id=\"df-056237ab-b7de-4aac-a1d5-04c1fcfdf6be\">\n",
              "  <button class=\"colab-df-quickchart\" onclick=\"quickchart('df-056237ab-b7de-4aac-a1d5-04c1fcfdf6be')\"\n",
              "            title=\"Suggest charts\"\n",
              "            style=\"display:none;\">\n",
              "\n",
              "<svg xmlns=\"http://www.w3.org/2000/svg\" height=\"24px\"viewBox=\"0 0 24 24\"\n",
              "     width=\"24px\">\n",
              "    <g>\n",
              "        <path d=\"M19 3H5c-1.1 0-2 .9-2 2v14c0 1.1.9 2 2 2h14c1.1 0 2-.9 2-2V5c0-1.1-.9-2-2-2zM9 17H7v-7h2v7zm4 0h-2V7h2v10zm4 0h-2v-4h2v4z\"/>\n",
              "    </g>\n",
              "</svg>\n",
              "  </button>\n",
              "\n",
              "<style>\n",
              "  .colab-df-quickchart {\n",
              "      --bg-color: #E8F0FE;\n",
              "      --fill-color: #1967D2;\n",
              "      --hover-bg-color: #E2EBFA;\n",
              "      --hover-fill-color: #174EA6;\n",
              "      --disabled-fill-color: #AAA;\n",
              "      --disabled-bg-color: #DDD;\n",
              "  }\n",
              "\n",
              "  [theme=dark] .colab-df-quickchart {\n",
              "      --bg-color: #3B4455;\n",
              "      --fill-color: #D2E3FC;\n",
              "      --hover-bg-color: #434B5C;\n",
              "      --hover-fill-color: #FFFFFF;\n",
              "      --disabled-bg-color: #3B4455;\n",
              "      --disabled-fill-color: #666;\n",
              "  }\n",
              "\n",
              "  .colab-df-quickchart {\n",
              "    background-color: var(--bg-color);\n",
              "    border: none;\n",
              "    border-radius: 50%;\n",
              "    cursor: pointer;\n",
              "    display: none;\n",
              "    fill: var(--fill-color);\n",
              "    height: 32px;\n",
              "    padding: 0;\n",
              "    width: 32px;\n",
              "  }\n",
              "\n",
              "  .colab-df-quickchart:hover {\n",
              "    background-color: var(--hover-bg-color);\n",
              "    box-shadow: 0 1px 2px rgba(60, 64, 67, 0.3), 0 1px 3px 1px rgba(60, 64, 67, 0.15);\n",
              "    fill: var(--button-hover-fill-color);\n",
              "  }\n",
              "\n",
              "  .colab-df-quickchart-complete:disabled,\n",
              "  .colab-df-quickchart-complete:disabled:hover {\n",
              "    background-color: var(--disabled-bg-color);\n",
              "    fill: var(--disabled-fill-color);\n",
              "    box-shadow: none;\n",
              "  }\n",
              "\n",
              "  .colab-df-spinner {\n",
              "    border: 2px solid var(--fill-color);\n",
              "    border-color: transparent;\n",
              "    border-bottom-color: var(--fill-color);\n",
              "    animation:\n",
              "      spin 1s steps(1) infinite;\n",
              "  }\n",
              "\n",
              "  @keyframes spin {\n",
              "    0% {\n",
              "      border-color: transparent;\n",
              "      border-bottom-color: var(--fill-color);\n",
              "      border-left-color: var(--fill-color);\n",
              "    }\n",
              "    20% {\n",
              "      border-color: transparent;\n",
              "      border-left-color: var(--fill-color);\n",
              "      border-top-color: var(--fill-color);\n",
              "    }\n",
              "    30% {\n",
              "      border-color: transparent;\n",
              "      border-left-color: var(--fill-color);\n",
              "      border-top-color: var(--fill-color);\n",
              "      border-right-color: var(--fill-color);\n",
              "    }\n",
              "    40% {\n",
              "      border-color: transparent;\n",
              "      border-right-color: var(--fill-color);\n",
              "      border-top-color: var(--fill-color);\n",
              "    }\n",
              "    60% {\n",
              "      border-color: transparent;\n",
              "      border-right-color: var(--fill-color);\n",
              "    }\n",
              "    80% {\n",
              "      border-color: transparent;\n",
              "      border-right-color: var(--fill-color);\n",
              "      border-bottom-color: var(--fill-color);\n",
              "    }\n",
              "    90% {\n",
              "      border-color: transparent;\n",
              "      border-bottom-color: var(--fill-color);\n",
              "    }\n",
              "  }\n",
              "</style>\n",
              "\n",
              "  <script>\n",
              "    async function quickchart(key) {\n",
              "      const quickchartButtonEl =\n",
              "        document.querySelector('#' + key + ' button');\n",
              "      quickchartButtonEl.disabled = true;  // To prevent multiple clicks.\n",
              "      quickchartButtonEl.classList.add('colab-df-spinner');\n",
              "      try {\n",
              "        const charts = await google.colab.kernel.invokeFunction(\n",
              "            'suggestCharts', [key], {});\n",
              "      } catch (error) {\n",
              "        console.error('Error during call to suggestCharts:', error);\n",
              "      }\n",
              "      quickchartButtonEl.classList.remove('colab-df-spinner');\n",
              "      quickchartButtonEl.classList.add('colab-df-quickchart-complete');\n",
              "    }\n",
              "    (() => {\n",
              "      let quickchartButtonEl =\n",
              "        document.querySelector('#df-056237ab-b7de-4aac-a1d5-04c1fcfdf6be button');\n",
              "      quickchartButtonEl.style.display =\n",
              "        google.colab.kernel.accessAllowed ? 'block' : 'none';\n",
              "    })();\n",
              "  </script>\n",
              "</div>\n",
              "    </div>\n",
              "  </div>\n"
            ]
          },
          "metadata": {},
          "execution_count": 112
        }
      ]
    },
    {
      "cell_type": "markdown",
      "source": [
        "Menghitung missing values"
      ],
      "metadata": {
        "id": "cHxkKVxENX8T"
      },
      "id": "cHxkKVxENX8T"
    },
    {
      "cell_type": "code",
      "source": [
        "Data.duplicated().sum()"
      ],
      "metadata": {
        "id": "Aex0STNhUyls",
        "colab": {
          "base_uri": "https://localhost:8080/"
        },
        "outputId": "e21ccf12-0528-437d-baaf-fa0622d93a88"
      },
      "id": "Aex0STNhUyls",
      "execution_count": null,
      "outputs": [
        {
          "output_type": "execute_result",
          "data": {
            "text/plain": [
              "0"
            ]
          },
          "metadata": {},
          "execution_count": 113
        }
      ]
    },
    {
      "cell_type": "markdown",
      "source": [
        "Menghitung duplicated data"
      ],
      "metadata": {
        "id": "6Mdl4sdBNTcn"
      },
      "id": "6Mdl4sdBNTcn"
    },
    {
      "cell_type": "code",
      "source": [
        "nf = Data.select_dtypes(include=[np.number]).columns\n",
        "cf = Data.select_dtypes(include=[np.object]).columns"
      ],
      "metadata": {
        "id": "4p4lZsa4t3q7"
      },
      "id": "4p4lZsa4t3q7",
      "execution_count": null,
      "outputs": []
    },
    {
      "cell_type": "markdown",
      "source": [
        "membagi menjadi 2 kategori. pertama nf dimana baris ini mencari kolom-kolom dalam data set Abalo yang memiliki tipe data numeric. Kedua cf dimana baris ini mencari kolom-kolom dalam data set Abalone yang memiliki tipe data objek"
      ],
      "metadata": {
        "id": "PSw9ecRLNplF"
      },
      "id": "PSw9ecRLNplF"
    },
    {
      "cell_type": "code",
      "source": [
        "nf"
      ],
      "metadata": {
        "id": "TTzjb4Wtt-8M",
        "colab": {
          "base_uri": "https://localhost:8080/"
        },
        "outputId": "3adca5be-1cde-4ad6-b280-d2786740c021"
      },
      "id": "TTzjb4Wtt-8M",
      "execution_count": null,
      "outputs": [
        {
          "output_type": "execute_result",
          "data": {
            "text/plain": [
              "Index(['Length', 'Diameter', 'Height', 'Wholeweight', 'Shuckedweight',\n",
              "       'Visceraweight', 'Shellweight', 'Age'],\n",
              "      dtype='object')"
            ]
          },
          "metadata": {},
          "execution_count": 115
        }
      ]
    },
    {
      "cell_type": "code",
      "source": [
        "cf"
      ],
      "metadata": {
        "id": "wepiYdPfuAlH",
        "colab": {
          "base_uri": "https://localhost:8080/"
        },
        "outputId": "78915588-2c2b-41a2-8f27-f7de55772d54"
      },
      "id": "wepiYdPfuAlH",
      "execution_count": null,
      "outputs": [
        {
          "output_type": "execute_result",
          "data": {
            "text/plain": [
              "Index(['Sex'], dtype='object')"
            ]
          },
          "metadata": {},
          "execution_count": 116
        }
      ]
    },
    {
      "cell_type": "code",
      "source": [
        "#categorical features\n",
        "temp = pd.concat([Data['Age'], Data['Sex']], axis=1)\n",
        "\n",
        "f, ax = plt.subplots(figsize=(8, 6))\n",
        "fig = sns.boxenplot(x='Sex', y=\"Age\", data=Data)\n",
        "fig.axis(ymin=0, ymax=30)"
      ],
      "metadata": {
        "colab": {
          "base_uri": "https://localhost:8080/",
          "height": 564
        },
        "id": "e3pK7JhW_gid",
        "outputId": "a598d322-c0ce-48d8-eaba-5398b3524d1c"
      },
      "id": "e3pK7JhW_gid",
      "execution_count": null,
      "outputs": [
        {
          "output_type": "execute_result",
          "data": {
            "text/plain": [
              "(-0.5, 2.5, 0.0, 30.0)"
            ]
          },
          "metadata": {},
          "execution_count": 117
        },
        {
          "output_type": "display_data",
          "data": {
            "text/plain": [
              "<Figure size 800x600 with 1 Axes>"
            ],
            "image/png": "[encoded data removed]"
          },
          "metadata": {}
        }
      ]
    },
    {
      "cell_type": "markdown",
      "source": [
        "Analisi:\n",
        "Tidak ada perbedaan pada umur dari male dan female, namun infants ada perbedaan sekitar 5-10."
      ],
      "metadata": {
        "id": "zmEiecin_0uU"
      },
      "id": "zmEiecin_0uU"
    },
    {
      "cell_type": "code",
      "source": [
        "sns.countplot(x='Sex', data = Data)\n",
        "plt.title('Distributed Classes', fontsize=14)\n",
        "plt.show()"
      ],
      "metadata": {
        "id": "Yi_eDdUsVO04",
        "colab": {
          "base_uri": "https://localhost:8080/",
          "height": 473
        },
        "outputId": "3956d044-4e3b-40b3-a463-5e27069fd20d"
      },
      "id": "Yi_eDdUsVO04",
      "execution_count": null,
      "outputs": [
        {
          "output_type": "display_data",
          "data": {
            "text/plain": [
              "<Figure size 640x480 with 1 Axes>"
            ],
            "image/png": "[encoded data removed]"
          },
          "metadata": {}
        }
      ]
    },
    {
      "cell_type": "code",
      "source": [
        "Data.hist(figsize = (20,10), layout = (2,4))"
      ],
      "metadata": {
        "colab": {
          "base_uri": "https://localhost:8080/",
          "height": 888
        },
        "id": "dFDa8WDuBDJW",
        "outputId": "d8945c60-3f0a-4396-fca2-187c44aea714"
      },
      "id": "dFDa8WDuBDJW",
      "execution_count": null,
      "outputs": [
        {
          "output_type": "execute_result",
          "data": {
            "text/plain": [
              "array([[<Axes: title={'center': 'Length'}>,\n",
              "        <Axes: title={'center': 'Diameter'}>,\n",
              "        <Axes: title={'center': 'Height'}>,\n",
              "        <Axes: title={'center': 'Wholeweight'}>],\n",
              "       [<Axes: title={'center': 'Shuckedweight'}>,\n",
              "        <Axes: title={'center': 'Visceraweight'}>,\n",
              "        <Axes: title={'center': 'Shellweight'}>,\n",
              "        <Axes: title={'center': 'Age'}>]], dtype=object)"
            ]
          },
          "metadata": {},
          "execution_count": 119
        },
        {
          "output_type": "display_data",
          "data": {
            "text/plain": [
              "<Figure size 2000x1000 with 8 Axes>"
            ],
            "image/png": "[encoded data removed]"
          },
          "metadata": {}
        }
      ]
    },
    {
      "cell_type": "markdown",
      "source": [
        "Analisis:\n",
        "Skewness dari Height terlalu besar, maka diperlukan normalisasi."
      ],
      "metadata": {
        "id": "3QHroGafBKKn"
      },
      "id": "3QHroGafBKKn"
    },
    {
      "cell_type": "code",
      "source": [
        "Data.skew().sort_values(ascending = False)"
      ],
      "metadata": {
        "colab": {
          "base_uri": "https://localhost:8080/"
        },
        "id": "hA2bfXFlBdD3",
        "outputId": "d8900c4b-499a-4442-9176-3a3cd707499f"
      },
      "id": "hA2bfXFlBdD3",
      "execution_count": null,
      "outputs": [
        {
          "output_type": "execute_result",
          "data": {
            "text/plain": [
              "Height           3.166364\n",
              "Age              1.113754\n",
              "Shuckedweight    0.718735\n",
              "Shellweight      0.621081\n",
              "Visceraweight    0.591455\n",
              "Wholeweight      0.530549\n",
              "Diameter        -0.610182\n",
              "Length          -0.640993\n",
              "dtype: float64"
            ]
          },
          "metadata": {},
          "execution_count": 120
        }
      ]
    },
    {
      "cell_type": "markdown",
      "source": [
        "Analisis:\n",
        "Skewness yang mendekati 0 biasanya menunjukkan distribusi normal pada kurva. Dapat kita lihat diatas Height memiliki skewness tertinggi sebesar 3.17. Kemungkinan terdapat pencilan (outliers) pada Height, sehingga diperlukan pemeriksaan dan penghapusan sebelum dilakukan pemodelan. Maka kami akan memeriksa kolerasi dengan variabel dependen yaitu Age."
      ],
      "metadata": {
        "id": "UGwaCLpJBmE8"
      },
      "id": "UGwaCLpJBmE8"
    },
    {
      "cell_type": "code",
      "source": [
        "corr = Data.corr()\n",
        "plt.figure(figsize = (10,10))\n",
        "ax = sns.heatmap(corr, vmin = -1, center = 0, annot = True, cmap = 'mako')"
      ],
      "metadata": {
        "colab": {
          "base_uri": "https://localhost:8080/",
          "height": 927
        },
        "id": "DmEWYcqGCr5c",
        "outputId": "0f654bae-a8d5-4418-a5c4-cf7be53d815e"
      },
      "id": "DmEWYcqGCr5c",
      "execution_count": null,
      "outputs": [
        {
          "output_type": "display_data",
          "data": {
            "text/plain": [
              "<Figure size 1000x1000 with 2 Axes>"
            ],
            "image/png": "[encoded data removed]"
          },
          "metadata": {}
        }
      ]
    },
    {
      "cell_type": "markdown",
      "source": [
        "Analisi: Tidak ada kolerasi negatif ditemukan, dapat kita lihat kolerasi antara Length dan Diameter cukup tinggi, kolerasi juga tinggi antara Shuckedweight, Visceraweight Vs Wholeweight & Shellweight vs Wholeweight."
      ],
      "metadata": {
        "id": "OpgxJTlEC6z8"
      },
      "id": "OpgxJTlEC6z8"
    },
    {
      "cell_type": "markdown",
      "source": [
        "# Menghitung VIF"
      ],
      "metadata": {
        "id": "6SGfOJAAKDFb"
      },
      "id": "6SGfOJAAKDFb"
    },
    {
      "cell_type": "code",
      "source": [
        "def vif_arr(df1):\n",
        "    vif = pd.DataFrame()\n",
        "    df1 = sm.add_constant(df1)\n",
        "    vif[\"Features\"] = df1.columns\n",
        "    vif['VIF'] = [variance_inflation_factor(df1.values, i) for i in range(df1.shape[1])]\n",
        "    return vif"
      ],
      "metadata": {
        "id": "sGDbneHYpK_P"
      },
      "id": "sGDbneHYpK_P",
      "execution_count": null,
      "outputs": []
    },
    {
      "cell_type": "code",
      "source": [
        "temp = Data.drop('Sex', axis=1)  # Assuming 'Sex' is a categorical variable\n",
        "result = vif_arr(temp).sort_values(by='Features', ascending=False)\n",
        "print(result)"
      ],
      "metadata": {
        "colab": {
          "base_uri": "https://localhost:8080/"
        },
        "id": "ZhLhYuq_pRky",
        "outputId": "242834fc-41eb-4b9f-952b-f81e125d487a"
      },
      "id": "ZhLhYuq_pRky",
      "execution_count": null,
      "outputs": [
        {
          "output_type": "stream",
          "name": "stdout",
          "text": [
            "        Features         VIF\n",
            "0          const   65.826699\n",
            "4    Wholeweight  115.321089\n",
            "6  Visceraweight   17.622607\n",
            "5  Shuckedweight   32.677153\n",
            "7    Shellweight   22.151151\n",
            "1         Length   40.747758\n",
            "3         Height    3.630903\n",
            "2       Diameter   42.195176\n",
            "8            Age    2.116796\n"
          ]
        }
      ]
    },
    {
      "cell_type": "markdown",
      "source": [
        "Multicollinearity terjadi ketika variabel independen dalam model regresi memiliki korelasi tinggi."
      ],
      "metadata": {
        "id": "GlPQ_zjMpoUf"
      },
      "id": "GlPQ_zjMpoUf"
    },
    {
      "cell_type": "code",
      "source": [
        "upper_tri = corr.where(np.triu(np.ones(corr.shape),k=1).astype(np.bool))\n",
        "columns_to_drop = [column for column in upper_tri.columns if any(upper_tri[column] > 0.95)] #highly correlated variables to be removed.\n",
        "\n",
        "print(\"Columns to drop:\\n\", columns_to_drop)"
      ],
      "metadata": {
        "colab": {
          "base_uri": "https://localhost:8080/"
        },
        "id": "-HEwvS5_H-M5",
        "outputId": "5d87272c-87ca-4f11-f060-f6967b30701c"
      },
      "id": "-HEwvS5_H-M5",
      "execution_count": null,
      "outputs": [
        {
          "output_type": "stream",
          "name": "stdout",
          "text": [
            "Columns to drop:\n",
            " ['Diameter', 'Shuckedweight', 'Visceraweight', 'Shellweight']\n"
          ]
        }
      ]
    },
    {
      "cell_type": "markdown",
      "source": [
        "Kita akan menghilangkan kolom tersebut."
      ],
      "metadata": {
        "id": "P7_yy0H0IK6V"
      },
      "id": "P7_yy0H0IK6V"
    },
    {
      "cell_type": "code",
      "source": [
        "Data.drop(columns_to_drop, axis=1, inplace = True)"
      ],
      "metadata": {
        "id": "M6UxCZs8IR0Y"
      },
      "id": "M6UxCZs8IR0Y",
      "execution_count": null,
      "outputs": []
    },
    {
      "cell_type": "code",
      "source": [
        "Data.head()"
      ],
      "metadata": {
        "colab": {
          "base_uri": "https://localhost:8080/",
          "height": 206
        },
        "id": "kajw_8qbIZmR",
        "outputId": "597dcd3f-efe5-43fb-9c7f-e390fb3dceb5"
      },
      "id": "kajw_8qbIZmR",
      "execution_count": null,
      "outputs": [
        {
          "output_type": "execute_result",
          "data": {
            "text/plain": [
              "  Sex  Length  Height  Wholeweight   Age\n",
              "0   M   0.455   0.095       0.5140  16.5\n",
              "1   M   0.350   0.090       0.2255   8.5\n",
              "2   F   0.530   0.135       0.6770  10.5\n",
              "3   M   0.440   0.125       0.5160  11.5\n",
              "4   I   0.330   0.080       0.2050   8.5"
            ],
            "text/html": [
              "\n",
              "  <div id=\"df-676ebf16-cc2f-4387-bcca-509800431a50\" class=\"colab-df-container\">\n",
              "    <div>\n",
              "<style scoped>\n",
              "    .dataframe tbody tr th:only-of-type {\n",
              "        vertical-align: middle;\n",
              "    }\n",
              "\n",
              "    .dataframe tbody tr th {\n",
              "        vertical-align: top;\n",
              "    }\n",
              "\n",
              "    .dataframe thead th {\n",
              "        text-align: right;\n",
              "    }\n",
              "</style>\n",
              "<table border=\"1\" class=\"dataframe\">\n",
              "  <thead>\n",
              "    <tr style=\"text-align: right;\">\n",
              "      <th></th>\n",
              "      <th>Sex</th>\n",
              "      <th>Length</th>\n",
              "      <th>Height</th>\n",
              "      <th>Wholeweight</th>\n",
              "      <th>Age</th>\n",
              "    </tr>\n",
              "  </thead>\n",
              "  <tbody>\n",
              "    <tr>\n",
              "      <th>0</th>\n",
              "      <td>M</td>\n",
              "      <td>0.455</td>\n",
              "      <td>0.095</td>\n",
              "      <td>0.5140</td>\n",
              "      <td>16.5</td>\n",
              "    </tr>\n",
              "    <tr>\n",
              "      <th>1</th>\n",
              "      <td>M</td>\n",
              "      <td>0.350</td>\n",
              "      <td>0.090</td>\n",
              "      <td>0.2255</td>\n",
              "      <td>8.5</td>\n",
              "    </tr>\n",
              "    <tr>\n",
              "      <th>2</th>\n",
              "      <td>F</td>\n",
              "      <td>0.530</td>\n",
              "      <td>0.135</td>\n",
              "      <td>0.6770</td>\n",
              "      <td>10.5</td>\n",
              "    </tr>\n",
              "    <tr>\n",
              "      <th>3</th>\n",
              "      <td>M</td>\n",
              "      <td>0.440</td>\n",
              "      <td>0.125</td>\n",
              "      <td>0.5160</td>\n",
              "      <td>11.5</td>\n",
              "    </tr>\n",
              "    <tr>\n",
              "      <th>4</th>\n",
              "      <td>I</td>\n",
              "      <td>0.330</td>\n",
              "      <td>0.080</td>\n",
              "      <td>0.2050</td>\n",
              "      <td>8.5</td>\n",
              "    </tr>\n",
              "  </tbody>\n",
              "</table>\n",
              "</div>\n",
              "    <div class=\"colab-df-buttons\">\n",
              "\n",
              "  <div class=\"colab-df-container\">\n",
              "    <button class=\"colab-df-convert\" onclick=\"convertToInteractive('df-676ebf16-cc2f-4387-bcca-509800431a50')\"\n",
              "            title=\"Convert this dataframe to an interactive table.\"\n",
              "            style=\"display:none;\">\n",
              "\n",
              "  <svg xmlns=\"http://www.w3.org/2000/svg\" height=\"24px\" viewBox=\"0 -960 960 960\">\n",
              "    <path d=\"M120-120v-720h720v720H120Zm60-500h600v-160H180v160Zm220 220h160v-160H400v160Zm0 220h160v-160H400v160ZM180-400h160v-160H180v160Zm440 0h160v-160H620v160ZM180-180h160v-160H180v160Zm440 0h160v-160H620v160Z\"/>\n",
              "  </svg>\n",
              "    </button>\n",
              "\n",
              "  <style>\n",
              "    .colab-df-container {\n",
              "      display:flex;\n",
              "      gap: 12px;\n",
              "    }\n",
              "\n",
              "    .colab-df-convert {\n",
              "      background-color: #E8F0FE;\n",
              "      border: none;\n",
              "      border-radius: 50%;\n",
              "      cursor: pointer;\n",
              "      display: none;\n",
              "      fill: #1967D2;\n",
              "      height: 32px;\n",
              "      padding: 0 0 0 0;\n",
              "      width: 32px;\n",
              "    }\n",
              "\n",
              "    .colab-df-convert:hover {\n",
              "      background-color: #E2EBFA;\n",
              "      box-shadow: 0px 1px 2px rgba(60, 64, 67, 0.3), 0px 1px 3px 1px rgba(60, 64, 67, 0.15);\n",
              "      fill: #174EA6;\n",
              "    }\n",
              "\n",
              "    .colab-df-buttons div {\n",
              "      margin-bottom: 4px;\n",
              "    }\n",
              "\n",
              "    [theme=dark] .colab-df-convert {\n",
              "      background-color: #3B4455;\n",
              "      fill: #D2E3FC;\n",
              "    }\n",
              "\n",
              "    [theme=dark] .colab-df-convert:hover {\n",
              "      background-color: #434B5C;\n",
              "      box-shadow: 0px 1px 3px 1px rgba(0, 0, 0, 0.15);\n",
              "      filter: drop-shadow(0px 1px 2px rgba(0, 0, 0, 0.3));\n",
              "      fill: #FFFFFF;\n",
              "    }\n",
              "  </style>\n",
              "\n",
              "    <script>\n",
              "      const buttonEl =\n",
              "        document.querySelector('#df-676ebf16-cc2f-4387-bcca-509800431a50 button.colab-df-convert');\n",
              "      buttonEl.style.display =\n",
              "        google.colab.kernel.accessAllowed ? 'block' : 'none';\n",
              "\n",
              "      async function convertToInteractive(key) {\n",
              "        const element = document.querySelector('#df-676ebf16-cc2f-4387-bcca-509800431a50');\n",
              "        const dataTable =\n",
              "          await google.colab.kernel.invokeFunction('convertToInteractive',\n",
              "                                                    [key], {});\n",
              "        if (!dataTable) return;\n",
              "\n",
              "        const docLinkHtml = 'Like what you see? Visit the ' +\n",
              "          '<a target=\"_blank\" href=https://colab.research.google.com/notebooks/data_table.ipynb>data table notebook</a>'\n",
              "          + ' to learn more about interactive tables.';\n",
              "        element.innerHTML = '';\n",
              "        dataTable['output_type'] = 'display_data';\n",
              "        await google.colab.output.renderOutput(dataTable, element);\n",
              "        const docLink = document.createElement('div');\n",
              "        docLink.innerHTML = docLinkHtml;\n",
              "        element.appendChild(docLink);\n",
              "      }\n",
              "    </script>\n",
              "  </div>\n",
              "\n",
              "\n",
              "<div id=\"df-6bfc6cb4-b19e-47fe-bf85-0edf41ba6389\">\n",
              "  <button class=\"colab-df-quickchart\" onclick=\"quickchart('df-6bfc6cb4-b19e-47fe-bf85-0edf41ba6389')\"\n",
              "            title=\"Suggest charts\"\n",
              "            style=\"display:none;\">\n",
              "\n",
              "<svg xmlns=\"http://www.w3.org/2000/svg\" height=\"24px\"viewBox=\"0 0 24 24\"\n",
              "     width=\"24px\">\n",
              "    <g>\n",
              "        <path d=\"M19 3H5c-1.1 0-2 .9-2 2v14c0 1.1.9 2 2 2h14c1.1 0 2-.9 2-2V5c0-1.1-.9-2-2-2zM9 17H7v-7h2v7zm4 0h-2V7h2v10zm4 0h-2v-4h2v4z\"/>\n",
              "    </g>\n",
              "</svg>\n",
              "  </button>\n",
              "\n",
              "<style>\n",
              "  .colab-df-quickchart {\n",
              "      --bg-color: #E8F0FE;\n",
              "      --fill-color: #1967D2;\n",
              "      --hover-bg-color: #E2EBFA;\n",
              "      --hover-fill-color: #174EA6;\n",
              "      --disabled-fill-color: #AAA;\n",
              "      --disabled-bg-color: #DDD;\n",
              "  }\n",
              "\n",
              "  [theme=dark] .colab-df-quickchart {\n",
              "      --bg-color: #3B4455;\n",
              "      --fill-color: #D2E3FC;\n",
              "      --hover-bg-color: #434B5C;\n",
              "      --hover-fill-color: #FFFFFF;\n",
              "      --disabled-bg-color: #3B4455;\n",
              "      --disabled-fill-color: #666;\n",
              "  }\n",
              "\n",
              "  .colab-df-quickchart {\n",
              "    background-color: var(--bg-color);\n",
              "    border: none;\n",
              "    border-radius: 50%;\n",
              "    cursor: pointer;\n",
              "    display: none;\n",
              "    fill: var(--fill-color);\n",
              "    height: 32px;\n",
              "    padding: 0;\n",
              "    width: 32px;\n",
              "  }\n",
              "\n",
              "  .colab-df-quickchart:hover {\n",
              "    background-color: var(--hover-bg-color);\n",
              "    box-shadow: 0 1px 2px rgba(60, 64, 67, 0.3), 0 1px 3px 1px rgba(60, 64, 67, 0.15);\n",
              "    fill: var(--button-hover-fill-color);\n",
              "  }\n",
              "\n",
              "  .colab-df-quickchart-complete:disabled,\n",
              "  .colab-df-quickchart-complete:disabled:hover {\n",
              "    background-color: var(--disabled-bg-color);\n",
              "    fill: var(--disabled-fill-color);\n",
              "    box-shadow: none;\n",
              "  }\n",
              "\n",
              "  .colab-df-spinner {\n",
              "    border: 2px solid var(--fill-color);\n",
              "    border-color: transparent;\n",
              "    border-bottom-color: var(--fill-color);\n",
              "    animation:\n",
              "      spin 1s steps(1) infinite;\n",
              "  }\n",
              "\n",
              "  @keyframes spin {\n",
              "    0% {\n",
              "      border-color: transparent;\n",
              "      border-bottom-color: var(--fill-color);\n",
              "      border-left-color: var(--fill-color);\n",
              "    }\n",
              "    20% {\n",
              "      border-color: transparent;\n",
              "      border-left-color: var(--fill-color);\n",
              "      border-top-color: var(--fill-color);\n",
              "    }\n",
              "    30% {\n",
              "      border-color: transparent;\n",
              "      border-left-color: var(--fill-color);\n",
              "      border-top-color: var(--fill-color);\n",
              "      border-right-color: var(--fill-color);\n",
              "    }\n",
              "    40% {\n",
              "      border-color: transparent;\n",
              "      border-right-color: var(--fill-color);\n",
              "      border-top-color: var(--fill-color);\n",
              "    }\n",
              "    60% {\n",
              "      border-color: transparent;\n",
              "      border-right-color: var(--fill-color);\n",
              "    }\n",
              "    80% {\n",
              "      border-color: transparent;\n",
              "      border-right-color: var(--fill-color);\n",
              "      border-bottom-color: var(--fill-color);\n",
              "    }\n",
              "    90% {\n",
              "      border-color: transparent;\n",
              "      border-bottom-color: var(--fill-color);\n",
              "    }\n",
              "  }\n",
              "</style>\n",
              "\n",
              "  <script>\n",
              "    async function quickchart(key) {\n",
              "      const quickchartButtonEl =\n",
              "        document.querySelector('#' + key + ' button');\n",
              "      quickchartButtonEl.disabled = true;  // To prevent multiple clicks.\n",
              "      quickchartButtonEl.classList.add('colab-df-spinner');\n",
              "      try {\n",
              "        const charts = await google.colab.kernel.invokeFunction(\n",
              "            'suggestCharts', [key], {});\n",
              "      } catch (error) {\n",
              "        console.error('Error during call to suggestCharts:', error);\n",
              "      }\n",
              "      quickchartButtonEl.classList.remove('colab-df-spinner');\n",
              "      quickchartButtonEl.classList.add('colab-df-quickchart-complete');\n",
              "    }\n",
              "    (() => {\n",
              "      let quickchartButtonEl =\n",
              "        document.querySelector('#df-6bfc6cb4-b19e-47fe-bf85-0edf41ba6389 button');\n",
              "      quickchartButtonEl.style.display =\n",
              "        google.colab.kernel.accessAllowed ? 'block' : 'none';\n",
              "    })();\n",
              "  </script>\n",
              "</div>\n",
              "    </div>\n",
              "  </div>\n"
            ]
          },
          "metadata": {},
          "execution_count": 126
        }
      ]
    },
    {
      "cell_type": "code",
      "source": [
        "f, axes = plt.subplots(ncols = 3, figsize = (20,4))\n",
        "\n",
        "sns.boxplot(x = 'Sex', y = 'Wholeweight', data = Data, ax = axes[0])\n",
        "axes[0].set_title('Wholeweight vs Sex')\n",
        "\n",
        "sns.boxplot(x = 'Sex', y = 'Length', data = Data, ax = axes[1])\n",
        "axes[1].set_title('Length vs Sex')\n",
        "\n",
        "sns.boxplot(x = 'Sex', y = 'Height', data = Data, ax = axes[2])\n",
        "axes[2].set_title('Height vs Sex')"
      ],
      "metadata": {
        "colab": {
          "base_uri": "https://localhost:8080/",
          "height": 377
        },
        "id": "YcwIZdZXKXzU",
        "outputId": "c2b087f3-57a9-4525-9b69-e3052d73e556"
      },
      "id": "YcwIZdZXKXzU",
      "execution_count": null,
      "outputs": [
        {
          "output_type": "execute_result",
          "data": {
            "text/plain": [
              "Text(0.5, 1.0, 'Height vs Sex')"
            ]
          },
          "metadata": {},
          "execution_count": 127
        },
        {
          "output_type": "display_data",
          "data": {
            "text/plain": [
              "<Figure size 2000x400 with 3 Axes>"
            ],
            "image/png": "[encoded data removed]"
          },
          "metadata": {}
        }
      ]
    },
    {
      "cell_type": "markdown",
      "source": [
        "Kami akan melakukan normalisasi pada variabel tinggi badan (Height) dengan melakukan square root transformation"
      ],
      "metadata": {
        "id": "kcxvvgr_KwYa"
      },
      "id": "kcxvvgr_KwYa"
    },
    {
      "cell_type": "code",
      "source": [
        "Data['Height'] = np.sqrt(Data['Height'])"
      ],
      "metadata": {
        "id": "VRBOZTtwK267"
      },
      "id": "VRBOZTtwK267",
      "execution_count": null,
      "outputs": []
    },
    {
      "cell_type": "code",
      "source": [
        "Data.skew().sort_values(ascending = False)"
      ],
      "metadata": {
        "colab": {
          "base_uri": "https://localhost:8080/"
        },
        "id": "xSs7elDVLIzt",
        "outputId": "3a86c958-117e-4305-fdf0-684d8600f8e8"
      },
      "id": "xSs7elDVLIzt",
      "execution_count": null,
      "outputs": [
        {
          "output_type": "execute_result",
          "data": {
            "text/plain": [
              "Age            1.113754\n",
              "Wholeweight    0.530549\n",
              "Height        -0.176012\n",
              "Length        -0.640993\n",
              "dtype: float64"
            ]
          },
          "metadata": {},
          "execution_count": 129
        }
      ]
    },
    {
      "cell_type": "markdown",
      "source": [
        "Seluruh variabel independen mendekati 0 sekarang."
      ],
      "metadata": {
        "id": "fWlQCWbCLRmf"
      },
      "id": "fWlQCWbCLRmf"
    },
    {
      "cell_type": "markdown",
      "source": [
        "# Membuat histogram fitur numerik"
      ],
      "metadata": {
        "id": "ZUuVmI9ILbf2"
      },
      "id": "ZUuVmI9ILbf2"
    },
    {
      "cell_type": "code",
      "source": [
        "Data.hist(figsize = (20,10), layout = (2,4), bins = 30)"
      ],
      "metadata": {
        "colab": {
          "base_uri": "https://localhost:8080/",
          "height": 456
        },
        "id": "2a2yzxteLat-",
        "outputId": "7c595520-2e36-411a-92a6-c4a5137fb42a"
      },
      "id": "2a2yzxteLat-",
      "execution_count": null,
      "outputs": [
        {
          "output_type": "execute_result",
          "data": {
            "text/plain": [
              "array([[<Axes: title={'center': 'Length'}>,\n",
              "        <Axes: title={'center': 'Height'}>,\n",
              "        <Axes: title={'center': 'Wholeweight'}>,\n",
              "        <Axes: title={'center': 'Age'}>],\n",
              "       [<Axes: >, <Axes: >, <Axes: >, <Axes: >]], dtype=object)"
            ]
          },
          "metadata": {},
          "execution_count": 130
        },
        {
          "output_type": "display_data",
          "data": {
            "text/plain": [
              "<Figure size 2000x1000 with 8 Axes>"
            ],
            "image/png": "[encoded data removed]"
          },
          "metadata": {}
        }
      ]
    },
    {
      "cell_type": "markdown",
      "source": [
        "Analisi: Bisa kita lihat sekarang distribusi pada Height normal."
      ],
      "metadata": {
        "id": "IQg6jDRbLniw"
      },
      "id": "IQg6jDRbLniw"
    },
    {
      "cell_type": "markdown",
      "source": [
        "# Mengubah Fitur Kategorikal"
      ],
      "metadata": {
        "id": "h5ikYlPNIuhm"
      },
      "id": "h5ikYlPNIuhm"
    },
    {
      "cell_type": "code",
      "source": [
        "# Melakukan one-hot encoding untuk kolom \"Sex\"\n",
        "Data = pd.get_dummies(Data, columns=['Sex'], prefix='Sex', drop_first=False)\n",
        "\n",
        "print(Data.columns)\n"
      ],
      "metadata": {
        "id": "0PtOfA-EQa8v",
        "colab": {
          "base_uri": "https://localhost:8080/"
        },
        "outputId": "d3e5896b-cc8e-4a1c-df5d-f13f453f4903"
      },
      "id": "0PtOfA-EQa8v",
      "execution_count": null,
      "outputs": [
        {
          "output_type": "stream",
          "name": "stdout",
          "text": [
            "Index(['Length', 'Height', 'Wholeweight', 'Age', 'Sex_F', 'Sex_I', 'Sex_M'], dtype='object')\n"
          ]
        }
      ]
    },
    {
      "cell_type": "markdown",
      "source": [
        "# Membersihkan Data Dari Pencilan"
      ],
      "metadata": {
        "id": "4v-XFK-5Iope"
      },
      "id": "4v-XFK-5Iope"
    },
    {
      "cell_type": "code",
      "source": [
        "Q1 = Data.quantile(0.25)\n",
        "Q3 = Data.quantile(0.75)\n",
        "IQR = Q3 - Q1\n",
        "\n",
        "outliers_iqr = ((Data < (Q1 - 1.5 * IQR)) | (Data > (Q3 + 1.5 * IQR))).any(axis=1)\n",
        "\n",
        "outliers_data = Data[outliers_iqr]\n",
        "\n",
        "print(\"Data pada baris dengan pencilan:\")\n",
        "print(outliers_data)\n"
      ],
      "metadata": {
        "colab": {
          "base_uri": "https://localhost:8080/"
        },
        "id": "Q7sRO5Hfrf_Y",
        "outputId": "5bea22db-3b7e-4b33-9804-437a7a0c40ad"
      },
      "id": "Q7sRO5Hfrf_Y",
      "execution_count": null,
      "outputs": [
        {
          "output_type": "stream",
          "name": "stdout",
          "text": [
            "Data pada baris dengan pencilan:\n",
            "      Length    Height  Wholeweight   Age  Sex_F  Sex_I  Sex_M\n",
            "6      0.530  0.387298       0.7775  21.5      1      0      0\n",
            "7      0.545  0.353553       0.7680  17.5      1      0      0\n",
            "9      0.550  0.387298       0.8945  20.5      1      0      0\n",
            "32     0.665  0.406202       1.3380  19.5      0      0      1\n",
            "33     0.680  0.418330       1.7980  20.5      1      0      0\n",
            "...      ...       ...          ...   ...    ...    ...    ...\n",
            "3947   0.475  0.374166       0.6175  17.5      0      0      1\n",
            "3993   0.720  0.484768       2.2385  13.5      0      0      1\n",
            "3994   0.185  0.212132       0.0320   5.5      0      1      0\n",
            "3995   0.245  0.234521       0.0785   6.5      0      1      0\n",
            "4119   0.300  0.223607       0.1185   5.5      0      1      0\n",
            "\n",
            "[383 rows x 7 columns]\n"
          ]
        }
      ]
    },
    {
      "cell_type": "code",
      "source": [
        "Data = Data[~outliers_iqr]\n"
      ],
      "metadata": {
        "id": "3QKSRRyIsYUx"
      },
      "id": "3QKSRRyIsYUx",
      "execution_count": null,
      "outputs": []
    },
    {
      "cell_type": "code",
      "source": [
        "Data.head()"
      ],
      "metadata": {
        "colab": {
          "base_uri": "https://localhost:8080/",
          "height": 206
        },
        "id": "QMOlTd2IWV45",
        "outputId": "a36c1e5a-a754-4cc2-e55e-f4c002054edc"
      },
      "id": "QMOlTd2IWV45",
      "execution_count": null,
      "outputs": [
        {
          "output_type": "execute_result",
          "data": {
            "text/plain": [
              "   Length    Height  Wholeweight   Age  Sex_F  Sex_I  Sex_M\n",
              "0   0.455  0.308221       0.5140  16.5      0      0      1\n",
              "1   0.350  0.300000       0.2255   8.5      0      0      1\n",
              "2   0.530  0.367423       0.6770  10.5      1      0      0\n",
              "3   0.440  0.353553       0.5160  11.5      0      0      1\n",
              "4   0.330  0.282843       0.2050   8.5      0      1      0"
            ],
            "text/html": [
              "\n",
              "  <div id=\"df-b18e92a5-ce32-4e64-8348-6b895527ca8b\" class=\"colab-df-container\">\n",
              "    <div>\n",
              "<style scoped>\n",
              "    .dataframe tbody tr th:only-of-type {\n",
              "        vertical-align: middle;\n",
              "    }\n",
              "\n",
              "    .dataframe tbody tr th {\n",
              "        vertical-align: top;\n",
              "    }\n",
              "\n",
              "    .dataframe thead th {\n",
              "        text-align: right;\n",
              "    }\n",
              "</style>\n",
              "<table border=\"1\" class=\"dataframe\">\n",
              "  <thead>\n",
              "    <tr style=\"text-align: right;\">\n",
              "      <th></th>\n",
              "      <th>Length</th>\n",
              "      <th>Height</th>\n",
              "      <th>Wholeweight</th>\n",
              "      <th>Age</th>\n",
              "      <th>Sex_F</th>\n",
              "      <th>Sex_I</th>\n",
              "      <th>Sex_M</th>\n",
              "    </tr>\n",
              "  </thead>\n",
              "  <tbody>\n",
              "    <tr>\n",
              "      <th>0</th>\n",
              "      <td>0.455</td>\n",
              "      <td>0.308221</td>\n",
              "      <td>0.5140</td>\n",
              "      <td>16.5</td>\n",
              "      <td>0</td>\n",
              "      <td>0</td>\n",
              "      <td>1</td>\n",
              "    </tr>\n",
              "    <tr>\n",
              "      <th>1</th>\n",
              "      <td>0.350</td>\n",
              "      <td>0.300000</td>\n",
              "      <td>0.2255</td>\n",
              "      <td>8.5</td>\n",
              "      <td>0</td>\n",
              "      <td>0</td>\n",
              "      <td>1</td>\n",
              "    </tr>\n",
              "    <tr>\n",
              "      <th>2</th>\n",
              "      <td>0.530</td>\n",
              "      <td>0.367423</td>\n",
              "      <td>0.6770</td>\n",
              "      <td>10.5</td>\n",
              "      <td>1</td>\n",
              "      <td>0</td>\n",
              "      <td>0</td>\n",
              "    </tr>\n",
              "    <tr>\n",
              "      <th>3</th>\n",
              "      <td>0.440</td>\n",
              "      <td>0.353553</td>\n",
              "      <td>0.5160</td>\n",
              "      <td>11.5</td>\n",
              "      <td>0</td>\n",
              "      <td>0</td>\n",
              "      <td>1</td>\n",
              "    </tr>\n",
              "    <tr>\n",
              "      <th>4</th>\n",
              "      <td>0.330</td>\n",
              "      <td>0.282843</td>\n",
              "      <td>0.2050</td>\n",
              "      <td>8.5</td>\n",
              "      <td>0</td>\n",
              "      <td>1</td>\n",
              "      <td>0</td>\n",
              "    </tr>\n",
              "  </tbody>\n",
              "</table>\n",
              "</div>\n",
              "    <div class=\"colab-df-buttons\">\n",
              "\n",
              "  <div class=\"colab-df-container\">\n",
              "    <button class=\"colab-df-convert\" onclick=\"convertToInteractive('df-b18e92a5-ce32-4e64-8348-6b895527ca8b')\"\n",
              "            title=\"Convert this dataframe to an interactive table.\"\n",
              "            style=\"display:none;\">\n",
              "\n",
              "  <svg xmlns=\"http://www.w3.org/2000/svg\" height=\"24px\" viewBox=\"0 -960 960 960\">\n",
              "    <path d=\"M120-120v-720h720v720H120Zm60-500h600v-160H180v160Zm220 220h160v-160H400v160Zm0 220h160v-160H400v160ZM180-400h160v-160H180v160Zm440 0h160v-160H620v160ZM180-180h160v-160H180v160Zm440 0h160v-160H620v160Z\"/>\n",
              "  </svg>\n",
              "    </button>\n",
              "\n",
              "  <style>\n",
              "    .colab-df-container {\n",
              "      display:flex;\n",
              "      gap: 12px;\n",
              "    }\n",
              "\n",
              "    .colab-df-convert {\n",
              "      background-color: #E8F0FE;\n",
              "      border: none;\n",
              "      border-radius: 50%;\n",
              "      cursor: pointer;\n",
              "      display: none;\n",
              "      fill: #1967D2;\n",
              "      height: 32px;\n",
              "      padding: 0 0 0 0;\n",
              "      width: 32px;\n",
              "    }\n",
              "\n",
              "    .colab-df-convert:hover {\n",
              "      background-color: #E2EBFA;\n",
              "      box-shadow: 0px 1px 2px rgba(60, 64, 67, 0.3), 0px 1px 3px 1px rgba(60, 64, 67, 0.15);\n",
              "      fill: #174EA6;\n",
              "    }\n",
              "\n",
              "    .colab-df-buttons div {\n",
              "      margin-bottom: 4px;\n",
              "    }\n",
              "\n",
              "    [theme=dark] .colab-df-convert {\n",
              "      background-color: #3B4455;\n",
              "      fill: #D2E3FC;\n",
              "    }\n",
              "\n",
              "    [theme=dark] .colab-df-convert:hover {\n",
              "      background-color: #434B5C;\n",
              "      box-shadow: 0px 1px 3px 1px rgba(0, 0, 0, 0.15);\n",
              "      filter: drop-shadow(0px 1px 2px rgba(0, 0, 0, 0.3));\n",
              "      fill: #FFFFFF;\n",
              "    }\n",
              "  </style>\n",
              "\n",
              "    <script>\n",
              "      const buttonEl =\n",
              "        document.querySelector('#df-b18e92a5-ce32-4e64-8348-6b895527ca8b button.colab-df-convert');\n",
              "      buttonEl.style.display =\n",
              "        google.colab.kernel.accessAllowed ? 'block' : 'none';\n",
              "\n",
              "      async function convertToInteractive(key) {\n",
              "        const element = document.querySelector('#df-b18e92a5-ce32-4e64-8348-6b895527ca8b');\n",
              "        const dataTable =\n",
              "          await google.colab.kernel.invokeFunction('convertToInteractive',\n",
              "                                                    [key], {});\n",
              "        if (!dataTable) return;\n",
              "\n",
              "        const docLinkHtml = 'Like what you see? Visit the ' +\n",
              "          '<a target=\"_blank\" href=https://colab.research.google.com/notebooks/data_table.ipynb>data table notebook</a>'\n",
              "          + ' to learn more about interactive tables.';\n",
              "        element.innerHTML = '';\n",
              "        dataTable['output_type'] = 'display_data';\n",
              "        await google.colab.output.renderOutput(dataTable, element);\n",
              "        const docLink = document.createElement('div');\n",
              "        docLink.innerHTML = docLinkHtml;\n",
              "        element.appendChild(docLink);\n",
              "      }\n",
              "    </script>\n",
              "  </div>\n",
              "\n",
              "\n",
              "<div id=\"df-009eb0e4-d378-4054-968d-8921cf348b4c\">\n",
              "  <button class=\"colab-df-quickchart\" onclick=\"quickchart('df-009eb0e4-d378-4054-968d-8921cf348b4c')\"\n",
              "            title=\"Suggest charts\"\n",
              "            style=\"display:none;\">\n",
              "\n",
              "<svg xmlns=\"http://www.w3.org/2000/svg\" height=\"24px\"viewBox=\"0 0 24 24\"\n",
              "     width=\"24px\">\n",
              "    <g>\n",
              "        <path d=\"M19 3H5c-1.1 0-2 .9-2 2v14c0 1.1.9 2 2 2h14c1.1 0 2-.9 2-2V5c0-1.1-.9-2-2-2zM9 17H7v-7h2v7zm4 0h-2V7h2v10zm4 0h-2v-4h2v4z\"/>\n",
              "    </g>\n",
              "</svg>\n",
              "  </button>\n",
              "\n",
              "<style>\n",
              "  .colab-df-quickchart {\n",
              "      --bg-color: #E8F0FE;\n",
              "      --fill-color: #1967D2;\n",
              "      --hover-bg-color: #E2EBFA;\n",
              "      --hover-fill-color: #174EA6;\n",
              "      --disabled-fill-color: #AAA;\n",
              "      --disabled-bg-color: #DDD;\n",
              "  }\n",
              "\n",
              "  [theme=dark] .colab-df-quickchart {\n",
              "      --bg-color: #3B4455;\n",
              "      --fill-color: #D2E3FC;\n",
              "      --hover-bg-color: #434B5C;\n",
              "      --hover-fill-color: #FFFFFF;\n",
              "      --disabled-bg-color: #3B4455;\n",
              "      --disabled-fill-color: #666;\n",
              "  }\n",
              "\n",
              "  .colab-df-quickchart {\n",
              "    background-color: var(--bg-color);\n",
              "    border: none;\n",
              "    border-radius: 50%;\n",
              "    cursor: pointer;\n",
              "    display: none;\n",
              "    fill: var(--fill-color);\n",
              "    height: 32px;\n",
              "    padding: 0;\n",
              "    width: 32px;\n",
              "  }\n",
              "\n",
              "  .colab-df-quickchart:hover {\n",
              "    background-color: var(--hover-bg-color);\n",
              "    box-shadow: 0 1px 2px rgba(60, 64, 67, 0.3), 0 1px 3px 1px rgba(60, 64, 67, 0.15);\n",
              "    fill: var(--button-hover-fill-color);\n",
              "  }\n",
              "\n",
              "  .colab-df-quickchart-complete:disabled,\n",
              "  .colab-df-quickchart-complete:disabled:hover {\n",
              "    background-color: var(--disabled-bg-color);\n",
              "    fill: var(--disabled-fill-color);\n",
              "    box-shadow: none;\n",
              "  }\n",
              "\n",
              "  .colab-df-spinner {\n",
              "    border: 2px solid var(--fill-color);\n",
              "    border-color: transparent;\n",
              "    border-bottom-color: var(--fill-color);\n",
              "    animation:\n",
              "      spin 1s steps(1) infinite;\n",
              "  }\n",
              "\n",
              "  @keyframes spin {\n",
              "    0% {\n",
              "      border-color: transparent;\n",
              "      border-bottom-color: var(--fill-color);\n",
              "      border-left-color: var(--fill-color);\n",
              "    }\n",
              "    20% {\n",
              "      border-color: transparent;\n",
              "      border-left-color: var(--fill-color);\n",
              "      border-top-color: var(--fill-color);\n",
              "    }\n",
              "    30% {\n",
              "      border-color: transparent;\n",
              "      border-left-color: var(--fill-color);\n",
              "      border-top-color: var(--fill-color);\n",
              "      border-right-color: var(--fill-color);\n",
              "    }\n",
              "    40% {\n",
              "      border-color: transparent;\n",
              "      border-right-color: var(--fill-color);\n",
              "      border-top-color: var(--fill-color);\n",
              "    }\n",
              "    60% {\n",
              "      border-color: transparent;\n",
              "      border-right-color: var(--fill-color);\n",
              "    }\n",
              "    80% {\n",
              "      border-color: transparent;\n",
              "      border-right-color: var(--fill-color);\n",
              "      border-bottom-color: var(--fill-color);\n",
              "    }\n",
              "    90% {\n",
              "      border-color: transparent;\n",
              "      border-bottom-color: var(--fill-color);\n",
              "    }\n",
              "  }\n",
              "</style>\n",
              "\n",
              "  <script>\n",
              "    async function quickchart(key) {\n",
              "      const quickchartButtonEl =\n",
              "        document.querySelector('#' + key + ' button');\n",
              "      quickchartButtonEl.disabled = true;  // To prevent multiple clicks.\n",
              "      quickchartButtonEl.classList.add('colab-df-spinner');\n",
              "      try {\n",
              "        const charts = await google.colab.kernel.invokeFunction(\n",
              "            'suggestCharts', [key], {});\n",
              "      } catch (error) {\n",
              "        console.error('Error during call to suggestCharts:', error);\n",
              "      }\n",
              "      quickchartButtonEl.classList.remove('colab-df-spinner');\n",
              "      quickchartButtonEl.classList.add('colab-df-quickchart-complete');\n",
              "    }\n",
              "    (() => {\n",
              "      let quickchartButtonEl =\n",
              "        document.querySelector('#df-009eb0e4-d378-4054-968d-8921cf348b4c button');\n",
              "      quickchartButtonEl.style.display =\n",
              "        google.colab.kernel.accessAllowed ? 'block' : 'none';\n",
              "    })();\n",
              "  </script>\n",
              "</div>\n",
              "    </div>\n",
              "  </div>\n"
            ]
          },
          "metadata": {},
          "execution_count": 134
        }
      ]
    },
    {
      "cell_type": "markdown",
      "id": "691b437e",
      "metadata": {
        "id": "691b437e"
      },
      "source": [
        "#### Ringkasan Metode\n",
        "<p align = 'justify'>\n",
        "Pertama yang kami lakukan untuk membuat Machine Learning adalah dengan memisahkan train-test, dimana target prediksi kami adalah Age. Kemudian, membuat model Baseline dan membuat 3 buah eksplorasi model SVM .Pertama, kami membuat model SVM dengan RBF Kernel. Kedua, kami membuat model SVM dengan Linear Kernel. Ketiga, kami membuat model SVM dengan Precomputed Kernel."
      ]
    },
    {
      "cell_type": "markdown",
      "source": [
        "# Memisahkan Data Menjadi Data train dan Data test"
      ],
      "metadata": {
        "id": "Ku1FNdXMIcL6"
      },
      "id": "Ku1FNdXMIcL6"
    },
    {
      "cell_type": "code",
      "source": [
        "# Split data menjadi data train dan data test\n",
        "X = Data.drop('Age', axis=1)\n",
        "y = Data['Age']\n",
        "X_train, X_test, y_train, y_test = train_test_split(X, y, test_size=0.2, random_state=0)"
      ],
      "metadata": {
        "id": "fYAaqN9nQVx8"
      },
      "id": "fYAaqN9nQVx8",
      "execution_count": null,
      "outputs": []
    },
    {
      "cell_type": "markdown",
      "source": [
        "# Melakukan Standardisasi"
      ],
      "metadata": {
        "id": "TocLRNowIh3T"
      },
      "id": "TocLRNowIh3T"
    },
    {
      "cell_type": "code",
      "source": [
        "# Standardisasi fitur\n",
        "scaler = StandardScaler()\n",
        "X_train_scaled = scaler.fit_transform(X_train)\n",
        "X_test_scaled = scaler.transform(X_test)"
      ],
      "metadata": {
        "id": "k80gH0E0TqjI"
      },
      "id": "k80gH0E0TqjI",
      "execution_count": null,
      "outputs": []
    },
    {
      "cell_type": "markdown",
      "source": [
        "# Pembangunan Model Baseline"
      ],
      "metadata": {
        "id": "vVE0JINXIZGo"
      },
      "id": "vVE0JINXIZGo"
    },
    {
      "cell_type": "code",
      "execution_count": null,
      "id": "348c59c4",
      "metadata": {
        "id": "348c59c4",
        "colab": {
          "base_uri": "https://localhost:8080/"
        },
        "outputId": "73b4b223-2b0d-402a-a9d1-3e6d1d86cc49"
      },
      "outputs": [
        {
          "output_type": "stream",
          "name": "stdout",
          "text": [
            "Baseline Model:\n",
            "Mean Squared Error (MSE): 3.183280719132187\n",
            "Mean Absolute Percentage Error (MAPE): 0.12045612826291115\n",
            "R2 Score: 0.4288148756454814\n"
          ]
        }
      ],
      "source": [
        "# Model Baseline\n",
        "baseline_model = svm.SVR()\n",
        "baseline_model.fit(X_train_scaled, y_train)\n",
        "\n",
        "# Prediksi pada data test\n",
        "y_pred_baseline = baseline_model.predict(X_test_scaled)\n",
        "\n",
        "# Evaluasi Model Baseline\n",
        "print(\"Baseline Model:\")\n",
        "print(\"Mean Squared Error (MSE):\", mean_squared_error(y_test, y_pred_baseline))\n",
        "print(\"Mean Absolute Percentage Error (MAPE):\", mean_absolute_percentage_error(y_test, y_pred_baseline))\n",
        "print(\"R2 Score:\", r2_score(y_test, y_pred_baseline))"
      ]
    },
    {
      "cell_type": "markdown",
      "source": [
        "# Eksplorasi Model"
      ],
      "metadata": {
        "id": "k6i5ZTtXAWv9"
      },
      "id": "k6i5ZTtXAWv9"
    },
    {
      "cell_type": "code",
      "source": [
        "#Scheme 1 Menggunakan kernel rbf\n",
        "# Membuat model SVM dengan RBF Kernel\n",
        "rbf_svr = SVR(kernel='rbf')\n",
        "\n",
        "# Definisi parameter grid untuk dicari dengan GridSearchCV\n",
        "param_grid_rbf = {'C': [0.1, 1, 10, 100], 'epsilon': [0.1, 0.2, 0.5], 'gamma': [0.001, 0.01, 0.1, 1, 'scale']}\n",
        "\n",
        "# Membuat scorer berdasarkan r2_score\n",
        "scorer_rbf = make_scorer(r2_score)\n",
        "\n",
        "# Melakukan Grid Search untuk mencari parameter terbaik\n",
        "grid_search_rbf = GridSearchCV(rbf_svr, param_grid_rbf, scoring=scorer_rbf, cv=5)\n",
        "grid_search_rbf.fit(X_train_scaled, y_train)\n",
        "\n",
        "# Mendapatkan model terbaik dari hasil Grid Search\n",
        "best_rbf_svr = grid_search_rbf.best_estimator_\n",
        "\n",
        "# Prediksi pada data test\n",
        "y_pred_best_rbf_svr = best_rbf_svr.predict(X_test_scaled)"
      ],
      "metadata": {
        "id": "PZfwOTGcLpa_"
      },
      "id": "PZfwOTGcLpa_",
      "execution_count": null,
      "outputs": []
    },
    {
      "cell_type": "code",
      "source": [
        "#Scheme 2 Menggunakan kernel linear\n",
        "# Membuat model SVM dengan Linear Kernel\n",
        "linear_svr = SVR(kernel='linear')\n",
        "\n",
        "# Definisi parameter grid untuk dicari dengan GridSearchCV\n",
        "param_grid_linear = {'epsilon': [0.1, 0.2, 0.5]}\n",
        "\n",
        "# Membuat scorer berdasarkan r2_score\n",
        "scorer_linear = make_scorer(r2_score)\n",
        "\n",
        "# Melakukan Grid Search untuk mencari parameter terbaik\n",
        "grid_search_linear = GridSearchCV(linear_svr, param_grid_linear, scoring=scorer_linear, cv=5)\n",
        "grid_search_linear.fit(X_train_scaled, y_train)\n",
        "\n",
        "# Mendapatkan model terbaik dari hasil Grid Search\n",
        "best_linear_svr = grid_search_linear.best_estimator_\n",
        "\n",
        "# Prediksi pada data test\n",
        "y_pred_best_linear_svr = best_linear_svr.predict(X_test_scaled)"
      ],
      "metadata": {
        "id": "33B0gBHPNNaZ"
      },
      "id": "33B0gBHPNNaZ",
      "execution_count": null,
      "outputs": []
    },
    {
      "cell_type": "code",
      "source": [
        "#Scheme 3 Menggunakan kernel precomputed\n",
        "# Membuat model SVM dengan Precomputed Kernel\n",
        "precomputed_svr = SVR(kernel=linear_kernel)\n",
        "\n",
        "# Definisi parameter grid untuk dicari dengan GridSearchCV\n",
        "param_grid_precomputed = {'epsilon': [0.1, 0.2, 0.5]}\n",
        "\n",
        "# Membuat scorer berdasarkan r2_score\n",
        "scorer_precomputed = make_scorer(r2_score)\n",
        "\n",
        "# Melakukan Grid Search untuk mencari parameter terbaik\n",
        "grid_search_precomputed = GridSearchCV(precomputed_svr, param_grid_precomputed, scoring=scorer_precomputed, cv=5)\n",
        "grid_search_precomputed.fit(X_train_scaled, y_train)\n",
        "\n",
        "# Mendapatkan model terbaik dari hasil Grid Search\n",
        "best_precomputed_svr = grid_search_precomputed.best_estimator_\n",
        "\n",
        "# Prediksi pada data test\n",
        "y_pred_best_precomputed_svr = best_precomputed_svr.predict(X_test_scaled)"
      ],
      "metadata": {
        "id": "eKGi_WmdOfwp"
      },
      "id": "eKGi_WmdOfwp",
      "execution_count": null,
      "outputs": []
    },
    {
      "cell_type": "markdown",
      "source": [
        "# Evaluasi"
      ],
      "metadata": {
        "id": "8hgNpmut_lCx"
      },
      "id": "8hgNpmut_lCx"
    },
    {
      "cell_type": "code",
      "source": [
        "# Scheme 1 evaluasi Model SVM dengan RBF Kernel yang telah dioptimalkan\n",
        "print(\"Model SVM dengan RBF Kernel (Optimized):\")\n",
        "print(\"Mean Squared Error (MSE):\", mean_squared_error(y_test, y_pred_best_rbf_svr))\n",
        "print(\"Mean Absolute Percentage Error (MAPE):\", mean_absolute_percentage_error(y_test, y_pred_best_rbf_svr))\n",
        "print(\"R2 Score:\", r2_score(y_test, y_pred_best_rbf_svr))"
      ],
      "metadata": {
        "colab": {
          "base_uri": "https://localhost:8080/"
        },
        "id": "sR5s4q9YNE3M",
        "outputId": "886443cc-6f57-426e-bd2c-8cf246ec10ea"
      },
      "id": "sR5s4q9YNE3M",
      "execution_count": null,
      "outputs": [
        {
          "output_type": "stream",
          "name": "stdout",
          "text": [
            "Model SVM dengan RBF Kernel (Optimized):\n",
            "Mean Squared Error (MSE): 3.1283757548815747\n",
            "Mean Absolute Percentage Error (MAPE): 0.12041305305489466\n",
            "R2 Score: 0.4386666297319748\n"
          ]
        }
      ]
    },
    {
      "cell_type": "code",
      "source": [
        "# Scheme 2 evaluasi Model SVM dengan Linear Kernel yang telah dioptimalkan\n",
        "print(\"Model SVM dengan Linear Kernel (Optimized):\")\n",
        "print(\"Mean Squared Error (MSE):\", mean_squared_error(y_test, y_pred_best_linear_svr))\n",
        "print(\"Mean Absolute Percentage Error (MAPE):\", mean_absolute_percentage_error(y_test, y_pred_best_linear_svr))\n",
        "print(\"R2 Score:\", r2_score(y_test, y_pred_best_linear_svr))"
      ],
      "metadata": {
        "colab": {
          "base_uri": "https://localhost:8080/"
        },
        "id": "97mNsQ3UOaMJ",
        "outputId": "246ba568-7c43-4d1a-c3ad-b7915bbee020"
      },
      "id": "97mNsQ3UOaMJ",
      "execution_count": null,
      "outputs": [
        {
          "output_type": "stream",
          "name": "stdout",
          "text": [
            "Model SVM dengan Linear Kernel (Optimized):\n",
            "Mean Squared Error (MSE): 3.348470115363219\n",
            "Mean Absolute Percentage Error (MAPE): 0.12233250017670923\n",
            "R2 Score: 0.3991744718755016\n"
          ]
        }
      ]
    },
    {
      "cell_type": "code",
      "source": [
        "# Scheme 3 evaluasi Model SVM dengan Precomputed Kernel yang telah dioptimalkan\n",
        "print(\"Model SVM dengan Precomputed Kernel (Optimized):\")\n",
        "print(\"Mean Squared Error (MSE):\", mean_squared_error(y_test, y_pred_best_precomputed_svr))\n",
        "print(\"Mean Absolute Percentage Error (MAPE):\", mean_absolute_percentage_error(y_test, y_pred_best_precomputed_svr))\n",
        "print(\"R2 Score:\", r2_score(y_test, y_pred_best_precomputed_svr))"
      ],
      "metadata": {
        "colab": {
          "base_uri": "https://localhost:8080/"
        },
        "id": "eEnjmDqINyyT",
        "outputId": "202b5cec-a722-4b45-db11-65cb0c9b4da6"
      },
      "id": "eEnjmDqINyyT",
      "execution_count": null,
      "outputs": [
        {
          "output_type": "stream",
          "name": "stdout",
          "text": [
            "Model SVM dengan Precomputed Kernel (Optimized):\n",
            "Mean Squared Error (MSE): 3.3484701153632446\n",
            "Mean Absolute Percentage Error (MAPE): 0.12233250017671024\n",
            "R2 Score: 0.39917447187549693\n"
          ]
        }
      ]
    },
    {
      "cell_type": "markdown",
      "id": "c5526cf7",
      "metadata": {
        "id": "c5526cf7"
      },
      "source": [
        "# Hasil dan Analisis\n",
        "<p align = 'justify'>\n",
        "Dari hasil eksplorasi diatas didapatkan hasil sebagai berikut.\n",
        "\n",
        "Baseline\n",
        "Mean Squared Error (MSE): 3.18\n",
        "Mean Absolute Percentage Error (MAPE): 0.12\n",
        "R2 Score: 0.43\n",
        "\n",
        "1.  Model SVM dengan RBF Kernel\n",
        "\n",
        "*   Mean Squared Error (MSE): 3.13\n",
        "*   Mean Absolute Percentage Error (MAPE): 0.12\n",
        "*   R2 Score: 0.44\n",
        "<p align = 'justify'>\n",
        "Analisis:\n",
        "Model SVM dengan RBF Kernel menghasilkan kinerja yang sedikit lebih baik dibandingkan dengan baseline model. MSE yang lebih rendah menunjukkan bahwa model ini memiliki tingkat kesalahan prediksi yang lebih rendah, dan R2 Score yang lebih tinggi menandakan bahwa model ini lebih baik dalam menjelaskan variasi dalam data.\n",
        "\n",
        "2.  Model SVM dengan Linear Kernel\n",
        "\n",
        "*   Mean Squared Error (MSE): 3.35\n",
        "*   Mean Absolute Percentage Error (MAPE): 0.12\n",
        "*   R2 Score: 0.40\n",
        "<p align = 'justify'>\n",
        "Analisis:\n",
        "Model SVM dengan Linear Kernel memiliki performa yang sedikit lebih buruk dibandingkan dengan baseline model. MSE yang lebih tinggi menunjukkan tingkat kesalahan prediksi yang lebih tinggi, dan R2 Score yang lebih rendah menandakan bahwa model ini tidak sebaik baseline dalam menjelaskan variasi dalam data.\n",
        "\n",
        "3.  Model SVM dengan Precomputed Kernel\n",
        "\n",
        "*   Mean Squared Error (MSE): 3.35\n",
        "*   Mean Absolute Percentage Error (MAPE): 0.12\n",
        "*   R2 Score: 0.40\n",
        "\n",
        "<p align = 'justify'>\n",
        "Analisis:\n",
        "Model SVM dengan Precomputed Kernel memiliki performa yang sebanding dengan model SVM dengan Linear Kernel. Meskipun metrik kesalahan prediksi dan R2 Score sama, pemilihan kernel precomputed mungkin tidak memberikan manfaat tambahan yang signifikan.\n",
        "<p align = 'justify'>\n",
        "Kesimpulan Analisis:\n",
        "Model SVM dengan RBF Kernel menunjukkan peningkatan dalam prediksi dibandingkan dengan baseline.\n",
        "Model SVM dengan Linear Kernel memiliki kinerja yang kurang baik dibandingkan dengan baseline.\n",
        "Model SVM dengan Precomputed Kernel tidak memberikan perbedaan yang signifikan dalam kinerja dibandingkan dengan model SVM dengan Linear Kernel."
      ]
    },
    {
      "cell_type": "markdown",
      "id": "8a255fe5",
      "metadata": {
        "id": "8a255fe5"
      },
      "source": [
        "# Kesimpulan\n",
        "<p align = 'justify'>\n",
        "Dalam dataset abalon ini kami melakukan eksplorasi model SVM dengan 3 skema. Pada skema pertama kami menggunakan kernel RBF, pada skema kedua kami menggunakan kernel linear, dan pada skema ketiga kami menggunakan kernel precomputed. Sebelum melakukan eksplorasi model kami melakukan data preprocessing dan eksplorasi data. Pada bagian itu kami menghilangkan beberapa kolom yang memiliki kolerasi tinggi, karena ketika dua atau lebih variabel memiliki korelasi tinggi, model regresi dapat menjadi tidak stabil, kami juga melakukan pembersihan pencilan pada data. Sebelum membangun model kami memisahkan data menjadi data train dan data test, lalu kami juga  memastikan bahwa setiap fitur (variabel) memiliki dampak yang setara dalam analisis atau pembuatan model. Dari eksplorasi yang kami lakukan ditemukan model skema 1 memiliki hasil paling optimal yaitu Mean Squared Error (MSE) sebesar 3.13, Mean absolute Percentage Error (MAPE) sebesar 0.12, dan R2 Score sebesar 0.44 atau 44%.\n",
        "\n",
        "\n",
        "\n"
      ]
    }
  ],
  "metadata": {
    "kernelspec": {
      "display_name": "Python 3 (ipykernel)",
      "language": "python",
      "name": "python3"
    },
    "language_info": {
      "codemirror_mode": {
        "name": "ipython",
        "version": 3
      },
      "file_extension": ".py",
      "mimetype": "text/x-python",
      "name": "python",
      "nbconvert_exporter": "python",
      "pygments_lexer": "ipython3",
      "version": "3.10.9"
    },
    "colab": {
      "provenance": []
    }
  },
  "nbformat": 4,
  "nbformat_minor": 5
}